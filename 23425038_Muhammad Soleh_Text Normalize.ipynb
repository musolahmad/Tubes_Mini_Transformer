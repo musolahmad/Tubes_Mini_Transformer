{
  "nbformat": 4,
  "nbformat_minor": 0,
  "metadata": {
    "colab": {
      "provenance": [],
      "gpuType": "T4"
    },
    "kernelspec": {
      "name": "python3",
      "display_name": "Python 3"
    },
    "language_info": {
      "name": "python"
    },
    "accelerator": "GPU"
  },
  "cells": [
    {
      "cell_type": "code",
      "source": [
        "import tensorflow as tf\n",
        "import numpy as np\n",
        "import matplotlib.pyplot as plt\n",
        "from sklearn.model_selection import train_test_split"
      ],
      "metadata": {
        "id": "-quT2i9xl2gq"
      },
      "execution_count": 1,
      "outputs": []
    },
    {
      "cell_type": "markdown",
      "source": [
        "#Persiapan Dataset"
      ],
      "metadata": {
        "id": "h-Zg5cGdl-49"
      }
    },
    {
      "cell_type": "code",
      "source": [
        "from google.colab import drive\n",
        "drive.mount('/content/drive')"
      ],
      "metadata": {
        "colab": {
          "base_uri": "https://localhost:8080/"
        },
        "id": "J3740J4rlYA4",
        "outputId": "9c908cdf-9b55-4f99-f6e6-c92c9d1236b1"
      },
      "execution_count": 2,
      "outputs": [
        {
          "output_type": "stream",
          "name": "stdout",
          "text": [
            "Mounted at /content/drive\n"
          ]
        }
      ]
    },
    {
      "cell_type": "code",
      "source": [
        "import pandas as pd\n",
        "\n",
        "documents_folder = \"/content/drive/My Drive/Semester 2/Deep Learning/\"\n",
        "# Use pd.read_json to read data from the JSON file\n",
        "df = pd.read_csv(documents_folder+\"dataset_kamus_alay.csv\")\n",
        "print(len(df))\n",
        "df.head()"
      ],
      "metadata": {
        "colab": {
          "base_uri": "https://localhost:8080/",
          "height": 223
        },
        "id": "3GW4vosdlrae",
        "outputId": "c44a42aa-4857-44f5-ea80-9f21f0f5de17"
      },
      "execution_count": 3,
      "outputs": [
        {
          "output_type": "stream",
          "name": "stdout",
          "text": [
            "4748\n"
          ]
        },
        {
          "output_type": "execute_result",
          "data": {
            "text/plain": [
              "                                slang                                   formal\n",
              "0                    Akoh lagi syedih                         Aku sedang sedih\n",
              "1  Gw males banget ngerjain tugas ini  Saya malas sekali mengerjakan tugas ini\n",
              "2            Elo mau ikut nongki gak?           Kamu mau ikut nongkrong tidak?\n",
              "3                Nggak usah lebay deh                    Tidak usah berlebihan\n",
              "4        Udah kelar belom kerjaan lo?         Sudah selesai belum pekerjaanmu?"
            ],
            "text/html": [
              "\n",
              "  <div id=\"df-8df0218e-62e2-4fca-92c6-8f0377db7249\" class=\"colab-df-container\">\n",
              "    <div>\n",
              "<style scoped>\n",
              "    .dataframe tbody tr th:only-of-type {\n",
              "        vertical-align: middle;\n",
              "    }\n",
              "\n",
              "    .dataframe tbody tr th {\n",
              "        vertical-align: top;\n",
              "    }\n",
              "\n",
              "    .dataframe thead th {\n",
              "        text-align: right;\n",
              "    }\n",
              "</style>\n",
              "<table border=\"1\" class=\"dataframe\">\n",
              "  <thead>\n",
              "    <tr style=\"text-align: right;\">\n",
              "      <th></th>\n",
              "      <th>slang</th>\n",
              "      <th>formal</th>\n",
              "    </tr>\n",
              "  </thead>\n",
              "  <tbody>\n",
              "    <tr>\n",
              "      <th>0</th>\n",
              "      <td>Akoh lagi syedih</td>\n",
              "      <td>Aku sedang sedih</td>\n",
              "    </tr>\n",
              "    <tr>\n",
              "      <th>1</th>\n",
              "      <td>Gw males banget ngerjain tugas ini</td>\n",
              "      <td>Saya malas sekali mengerjakan tugas ini</td>\n",
              "    </tr>\n",
              "    <tr>\n",
              "      <th>2</th>\n",
              "      <td>Elo mau ikut nongki gak?</td>\n",
              "      <td>Kamu mau ikut nongkrong tidak?</td>\n",
              "    </tr>\n",
              "    <tr>\n",
              "      <th>3</th>\n",
              "      <td>Nggak usah lebay deh</td>\n",
              "      <td>Tidak usah berlebihan</td>\n",
              "    </tr>\n",
              "    <tr>\n",
              "      <th>4</th>\n",
              "      <td>Udah kelar belom kerjaan lo?</td>\n",
              "      <td>Sudah selesai belum pekerjaanmu?</td>\n",
              "    </tr>\n",
              "  </tbody>\n",
              "</table>\n",
              "</div>\n",
              "    <div class=\"colab-df-buttons\">\n",
              "\n",
              "  <div class=\"colab-df-container\">\n",
              "    <button class=\"colab-df-convert\" onclick=\"convertToInteractive('df-8df0218e-62e2-4fca-92c6-8f0377db7249')\"\n",
              "            title=\"Convert this dataframe to an interactive table.\"\n",
              "            style=\"display:none;\">\n",
              "\n",
              "  <svg xmlns=\"http://www.w3.org/2000/svg\" height=\"24px\" viewBox=\"0 -960 960 960\">\n",
              "    <path d=\"M120-120v-720h720v720H120Zm60-500h600v-160H180v160Zm220 220h160v-160H400v160Zm0 220h160v-160H400v160ZM180-400h160v-160H180v160Zm440 0h160v-160H620v160ZM180-180h160v-160H180v160Zm440 0h160v-160H620v160Z\"/>\n",
              "  </svg>\n",
              "    </button>\n",
              "\n",
              "  <style>\n",
              "    .colab-df-container {\n",
              "      display:flex;\n",
              "      gap: 12px;\n",
              "    }\n",
              "\n",
              "    .colab-df-convert {\n",
              "      background-color: #E8F0FE;\n",
              "      border: none;\n",
              "      border-radius: 50%;\n",
              "      cursor: pointer;\n",
              "      display: none;\n",
              "      fill: #1967D2;\n",
              "      height: 32px;\n",
              "      padding: 0 0 0 0;\n",
              "      width: 32px;\n",
              "    }\n",
              "\n",
              "    .colab-df-convert:hover {\n",
              "      background-color: #E2EBFA;\n",
              "      box-shadow: 0px 1px 2px rgba(60, 64, 67, 0.3), 0px 1px 3px 1px rgba(60, 64, 67, 0.15);\n",
              "      fill: #174EA6;\n",
              "    }\n",
              "\n",
              "    .colab-df-buttons div {\n",
              "      margin-bottom: 4px;\n",
              "    }\n",
              "\n",
              "    [theme=dark] .colab-df-convert {\n",
              "      background-color: #3B4455;\n",
              "      fill: #D2E3FC;\n",
              "    }\n",
              "\n",
              "    [theme=dark] .colab-df-convert:hover {\n",
              "      background-color: #434B5C;\n",
              "      box-shadow: 0px 1px 3px 1px rgba(0, 0, 0, 0.15);\n",
              "      filter: drop-shadow(0px 1px 2px rgba(0, 0, 0, 0.3));\n",
              "      fill: #FFFFFF;\n",
              "    }\n",
              "  </style>\n",
              "\n",
              "    <script>\n",
              "      const buttonEl =\n",
              "        document.querySelector('#df-8df0218e-62e2-4fca-92c6-8f0377db7249 button.colab-df-convert');\n",
              "      buttonEl.style.display =\n",
              "        google.colab.kernel.accessAllowed ? 'block' : 'none';\n",
              "\n",
              "      async function convertToInteractive(key) {\n",
              "        const element = document.querySelector('#df-8df0218e-62e2-4fca-92c6-8f0377db7249');\n",
              "        const dataTable =\n",
              "          await google.colab.kernel.invokeFunction('convertToInteractive',\n",
              "                                                    [key], {});\n",
              "        if (!dataTable) return;\n",
              "\n",
              "        const docLinkHtml = 'Like what you see? Visit the ' +\n",
              "          '<a target=\"_blank\" href=https://colab.research.google.com/notebooks/data_table.ipynb>data table notebook</a>'\n",
              "          + ' to learn more about interactive tables.';\n",
              "        element.innerHTML = '';\n",
              "        dataTable['output_type'] = 'display_data';\n",
              "        await google.colab.output.renderOutput(dataTable, element);\n",
              "        const docLink = document.createElement('div');\n",
              "        docLink.innerHTML = docLinkHtml;\n",
              "        element.appendChild(docLink);\n",
              "      }\n",
              "    </script>\n",
              "  </div>\n",
              "\n",
              "\n",
              "    <div id=\"df-3232d536-1fae-4e99-a625-7b9b47cf5ae4\">\n",
              "      <button class=\"colab-df-quickchart\" onclick=\"quickchart('df-3232d536-1fae-4e99-a625-7b9b47cf5ae4')\"\n",
              "                title=\"Suggest charts\"\n",
              "                style=\"display:none;\">\n",
              "\n",
              "<svg xmlns=\"http://www.w3.org/2000/svg\" height=\"24px\"viewBox=\"0 0 24 24\"\n",
              "     width=\"24px\">\n",
              "    <g>\n",
              "        <path d=\"M19 3H5c-1.1 0-2 .9-2 2v14c0 1.1.9 2 2 2h14c1.1 0 2-.9 2-2V5c0-1.1-.9-2-2-2zM9 17H7v-7h2v7zm4 0h-2V7h2v10zm4 0h-2v-4h2v4z\"/>\n",
              "    </g>\n",
              "</svg>\n",
              "      </button>\n",
              "\n",
              "<style>\n",
              "  .colab-df-quickchart {\n",
              "      --bg-color: #E8F0FE;\n",
              "      --fill-color: #1967D2;\n",
              "      --hover-bg-color: #E2EBFA;\n",
              "      --hover-fill-color: #174EA6;\n",
              "      --disabled-fill-color: #AAA;\n",
              "      --disabled-bg-color: #DDD;\n",
              "  }\n",
              "\n",
              "  [theme=dark] .colab-df-quickchart {\n",
              "      --bg-color: #3B4455;\n",
              "      --fill-color: #D2E3FC;\n",
              "      --hover-bg-color: #434B5C;\n",
              "      --hover-fill-color: #FFFFFF;\n",
              "      --disabled-bg-color: #3B4455;\n",
              "      --disabled-fill-color: #666;\n",
              "  }\n",
              "\n",
              "  .colab-df-quickchart {\n",
              "    background-color: var(--bg-color);\n",
              "    border: none;\n",
              "    border-radius: 50%;\n",
              "    cursor: pointer;\n",
              "    display: none;\n",
              "    fill: var(--fill-color);\n",
              "    height: 32px;\n",
              "    padding: 0;\n",
              "    width: 32px;\n",
              "  }\n",
              "\n",
              "  .colab-df-quickchart:hover {\n",
              "    background-color: var(--hover-bg-color);\n",
              "    box-shadow: 0 1px 2px rgba(60, 64, 67, 0.3), 0 1px 3px 1px rgba(60, 64, 67, 0.15);\n",
              "    fill: var(--button-hover-fill-color);\n",
              "  }\n",
              "\n",
              "  .colab-df-quickchart-complete:disabled,\n",
              "  .colab-df-quickchart-complete:disabled:hover {\n",
              "    background-color: var(--disabled-bg-color);\n",
              "    fill: var(--disabled-fill-color);\n",
              "    box-shadow: none;\n",
              "  }\n",
              "\n",
              "  .colab-df-spinner {\n",
              "    border: 2px solid var(--fill-color);\n",
              "    border-color: transparent;\n",
              "    border-bottom-color: var(--fill-color);\n",
              "    animation:\n",
              "      spin 1s steps(1) infinite;\n",
              "  }\n",
              "\n",
              "  @keyframes spin {\n",
              "    0% {\n",
              "      border-color: transparent;\n",
              "      border-bottom-color: var(--fill-color);\n",
              "      border-left-color: var(--fill-color);\n",
              "    }\n",
              "    20% {\n",
              "      border-color: transparent;\n",
              "      border-left-color: var(--fill-color);\n",
              "      border-top-color: var(--fill-color);\n",
              "    }\n",
              "    30% {\n",
              "      border-color: transparent;\n",
              "      border-left-color: var(--fill-color);\n",
              "      border-top-color: var(--fill-color);\n",
              "      border-right-color: var(--fill-color);\n",
              "    }\n",
              "    40% {\n",
              "      border-color: transparent;\n",
              "      border-right-color: var(--fill-color);\n",
              "      border-top-color: var(--fill-color);\n",
              "    }\n",
              "    60% {\n",
              "      border-color: transparent;\n",
              "      border-right-color: var(--fill-color);\n",
              "    }\n",
              "    80% {\n",
              "      border-color: transparent;\n",
              "      border-right-color: var(--fill-color);\n",
              "      border-bottom-color: var(--fill-color);\n",
              "    }\n",
              "    90% {\n",
              "      border-color: transparent;\n",
              "      border-bottom-color: var(--fill-color);\n",
              "    }\n",
              "  }\n",
              "</style>\n",
              "\n",
              "      <script>\n",
              "        async function quickchart(key) {\n",
              "          const quickchartButtonEl =\n",
              "            document.querySelector('#' + key + ' button');\n",
              "          quickchartButtonEl.disabled = true;  // To prevent multiple clicks.\n",
              "          quickchartButtonEl.classList.add('colab-df-spinner');\n",
              "          try {\n",
              "            const charts = await google.colab.kernel.invokeFunction(\n",
              "                'suggestCharts', [key], {});\n",
              "          } catch (error) {\n",
              "            console.error('Error during call to suggestCharts:', error);\n",
              "          }\n",
              "          quickchartButtonEl.classList.remove('colab-df-spinner');\n",
              "          quickchartButtonEl.classList.add('colab-df-quickchart-complete');\n",
              "        }\n",
              "        (() => {\n",
              "          let quickchartButtonEl =\n",
              "            document.querySelector('#df-3232d536-1fae-4e99-a625-7b9b47cf5ae4 button');\n",
              "          quickchartButtonEl.style.display =\n",
              "            google.colab.kernel.accessAllowed ? 'block' : 'none';\n",
              "        })();\n",
              "      </script>\n",
              "    </div>\n",
              "\n",
              "    </div>\n",
              "  </div>\n"
            ],
            "application/vnd.google.colaboratory.intrinsic+json": {
              "type": "dataframe",
              "variable_name": "df",
              "summary": "{\n  \"name\": \"df\",\n  \"rows\": 4748,\n  \"fields\": [\n    {\n      \"column\": \"slang\",\n      \"properties\": {\n        \"dtype\": \"string\",\n        \"num_unique_values\": 4149,\n        \"samples\": [\n          \"Cari PW dulu buat nugas biar fokus\",\n          \"aqwhuwh lagi pengen bikin film pendek nihhhh\",\n          \"Litbang adain penelitian pasar.\"\n        ],\n        \"semantic_type\": \"\",\n        \"description\": \"\"\n      }\n    },\n    {\n      \"column\": \"formal\",\n      \"properties\": {\n        \"dtype\": \"string\",\n        \"num_unique_values\": 4247,\n        \"samples\": [\n          \"Sebenarnya saya tidak mau ikut.\",\n          \"dia tuh tulus sekali tanpa ada niat tersembunyi\",\n          \"Melihat makanan enak membuat pertahanan diri saya goyah.\"\n        ],\n        \"semantic_type\": \"\",\n        \"description\": \"\"\n      }\n    }\n  ]\n}"
            }
          },
          "metadata": {},
          "execution_count": 3
        }
      ]
    },
    {
      "cell_type": "code",
      "source": [
        "df.info()"
      ],
      "metadata": {
        "colab": {
          "base_uri": "https://localhost:8080/"
        },
        "id": "65rVemj-3Hai",
        "outputId": "6bc5b508-e043-4568-c4ee-a7189b272d50"
      },
      "execution_count": 4,
      "outputs": [
        {
          "output_type": "stream",
          "name": "stdout",
          "text": [
            "<class 'pandas.core.frame.DataFrame'>\n",
            "RangeIndex: 4748 entries, 0 to 4747\n",
            "Data columns (total 2 columns):\n",
            " #   Column  Non-Null Count  Dtype \n",
            "---  ------  --------------  ----- \n",
            " 0   slang   4748 non-null   object\n",
            " 1   formal  4748 non-null   object\n",
            "dtypes: object(2)\n",
            "memory usage: 74.3+ KB\n"
          ]
        }
      ]
    },
    {
      "cell_type": "code",
      "source": [
        "# Pisahkan input dan target\n",
        "# Preprocessing dasar\n",
        "df['slang'] = df['slang'].str.lower().str.replace('[^\\w\\s]', '', regex=True) # Added regex=True\n",
        "df['formal'] = df['formal'].str.lower().str.replace('[^\\w\\s]', '', regex=True) # Added regex=True\n",
        "\n",
        "raw_src = df['slang']\n",
        "# Add start and end tokens to the target sentences\n",
        "raw_tgt = '[start] ' + df['formal'] + ' [end]'\n",
        "\n",
        "\n",
        "# Split train-validation\n",
        "src_train, src_val, tgt_train, tgt_val = train_test_split(\n",
        "    raw_src, raw_tgt, test_size=0.2, random_state=42)\n",
        "\n",
        "print(len(src_train))\n",
        "print(len(src_val))"
      ],
      "metadata": {
        "id": "_UOAvT2gmLpe",
        "colab": {
          "base_uri": "https://localhost:8080/"
        },
        "outputId": "f101ba11-95db-4570-ab53-b4fa6060cddf"
      },
      "execution_count": 5,
      "outputs": [
        {
          "output_type": "stream",
          "name": "stdout",
          "text": [
            "3798\n",
            "950\n"
          ]
        }
      ]
    },
    {
      "cell_type": "markdown",
      "source": [
        "#Preprocessing & Tokenisasi"
      ],
      "metadata": {
        "id": "1JmQ9y-hme2E"
      }
    },
    {
      "cell_type": "code",
      "source": [
        "# Hyperparameter\n",
        "MAX_SEQ_LENGTH = 64\n",
        "VOCAB_SIZE = 500\n",
        "BATCH_SIZE = 1\n",
        "EPOCHS = 20"
      ],
      "metadata": {
        "id": "p_yUhIfvmf2c"
      },
      "execution_count": 6,
      "outputs": []
    },
    {
      "cell_type": "code",
      "source": [
        "# Buat tokenizer\n",
        "# Ensure `standardize` does not remove our added [start] and [end] tokens\n",
        "# Also increase MAX_SEQ_LENGTH for the target to accommodate [start] and [end]\n",
        "src_tokenizer = tf.keras.layers.TextVectorization(\n",
        "    max_tokens=VOCAB_SIZE,\n",
        "    standardize='lower_and_strip_punctuation', # This will remove our [start] and [end] if not careful\n",
        "    output_sequence_length=MAX_SEQ_LENGTH\n",
        ")\n",
        "\n",
        "# A custom standardization function to keep [start] and [end]\n",
        "def custom_standardization(input_string):\n",
        "    lowercase = tf.strings.lower(input_string)\n",
        "    # Remove punctuation except for []\n",
        "    cleaned_text = tf.strings.regex_replace(lowercase, '[^\\w\\s\\[\\]]', '')\n",
        "    return cleaned_text\n",
        "\n",
        "tgt_tokenizer = tf.keras.layers.TextVectorization(\n",
        "    max_tokens=VOCAB_SIZE,\n",
        "    standardize=custom_standardization, # Use custom standardization\n",
        "    output_sequence_length=MAX_SEQ_LENGTH + 2 # +2 for [start] and [end]\n",
        ")\n",
        "\n",
        "\n",
        "# Adapt tokenizer\n",
        "src_tokenizer.adapt(src_train)\n",
        "tgt_tokenizer.adapt(tgt_train)\n",
        "\n",
        "# Fungsi preprocessing\n",
        "def preprocess_text(src, tgt):\n",
        "    src = src_tokenizer(src)\n",
        "    # The target includes [start] and [end].\n",
        "    # tgt_in should be [start]...token_n, tgt_out should be token_1...[end]\n",
        "    tgt_tokens = tgt_tokenizer(tgt)\n",
        "    tgt_in = tgt_tokens[:, :-1] # Exclude the last token ([end])\n",
        "    tgt_out = tgt_tokens[:, 1:] # Exclude the first token ([start])\n",
        "    return (src, tgt_in), tgt_out\n",
        "\n",
        "# Buat dataset\n",
        "train_dataset = tf.data.Dataset.from_tensor_slices((src_train, tgt_train))\n",
        "# Apply batch before map\n",
        "train_dataset = train_dataset.batch(BATCH_SIZE).map(preprocess_text).prefetch(tf.data.AUTOTUNE)\n",
        "\n",
        "val_dataset = tf.data.Dataset.from_tensor_slices((src_val, tgt_val))\n",
        "# Apply batch before map\n",
        "val_dataset = val_dataset.batch(BATCH_SIZE).map(preprocess_text).prefetch(tf.data.AUTOTUNE)\n",
        "\n",
        "# Check if [start] and [end] are in the vocabulary\n",
        "print(\"[start] in tgt_vocab:\", '[start]' in tgt_tokenizer.get_vocabulary())\n",
        "print(\"[end] in tgt_vocab:\", '[end]' in tgt_tokenizer.get_vocabulary())\n",
        "print(\"Sample of tgt_train:\", tgt_train.head().values)"
      ],
      "metadata": {
        "colab": {
          "base_uri": "https://localhost:8080/"
        },
        "id": "gviSw8zlmsV3",
        "outputId": "794f4731-d0f3-47ad-e281-33d598d47827"
      },
      "execution_count": 7,
      "outputs": [
        {
          "output_type": "stream",
          "name": "stdout",
          "text": [
            "[start] in tgt_vocab: True\n",
            "[end] in tgt_vocab: True\n",
            "Sample of tgt_train: ['[start] kamu selalu membuat aku lengkap sekali [end]'\n",
            " '[start] jangan lupa tersenyum ya [end]'\n",
            " '[start] ia sungguh mengapresiasi setiap perjuangan dan pengorbanan yang telah engkau curahkan segenap hati [end]'\n",
            " '[start] kamu kemarin ke mana [end]' '[start] saya bangga padamu [end]']\n"
          ]
        }
      ]
    },
    {
      "cell_type": "markdown",
      "source": [
        "#Arsitektur Model"
      ],
      "metadata": {
        "id": "sc2Qfqi9o29n"
      }
    },
    {
      "cell_type": "code",
      "source": [
        "import tensorflow as tf\n",
        "import numpy as np\n",
        "\n",
        "# ===========================================\n",
        "# 1. Multi-Head Attention (Kelas Terpisah)\n",
        "# ===========================================\n",
        "class MultiHeadAttention(tf.keras.layers.Layer):\n",
        "    def __init__(self, d_model, num_heads):\n",
        "        super().__init__()\n",
        "        self.num_heads = num_heads\n",
        "        self.d_model = d_model\n",
        "        self.depth = d_model // num_heads\n",
        "\n",
        "        self.wq = tf.keras.layers.Dense(d_model)\n",
        "        self.wk = tf.keras.layers.Dense(d_model)\n",
        "        self.wv = tf.keras.layers.Dense(d_model)\n",
        "        self.dense = tf.keras.layers.Dense(d_model)\n",
        "\n",
        "    def split_heads(self, x, batch_size):\n",
        "        x = tf.reshape(x, (batch_size, -1, self.num_heads, self.depth))\n",
        "        return tf.transpose(x, perm=[0, 2, 1, 3])\n",
        "\n",
        "    def call(self, q, k, v, mask=None):\n",
        "        batch_size = tf.shape(q)[0]\n",
        "\n",
        "        q = self.split_heads(self.wq(q), batch_size)\n",
        "        k = self.split_heads(self.wk(k), batch_size)\n",
        "        v = self.split_heads(self.wv(v), batch_size)\n",
        "\n",
        "        # Scaled Dot-Product Attention\n",
        "        matmul_qk = tf.matmul(q, k, transpose_b=True)\n",
        "        dk = tf.cast(tf.shape(k)[-1], tf.float32)\n",
        "        scaled_attention = matmul_qk / tf.math.sqrt(dk)\n",
        "\n",
        "        if mask is not None:\n",
        "            # Perhatikan penambahan mask yang di-broadcast\n",
        "            scaled_attention += (mask * -1e9)\n",
        "\n",
        "        attention_weights = tf.nn.softmax(scaled_attention, axis=-1)\n",
        "        output = tf.matmul(attention_weights, v)\n",
        "\n",
        "        # Concatenate Heads\n",
        "        output = tf.transpose(output, perm=[0, 2, 1, 3])\n",
        "        output = tf.reshape(output, (batch_size, -1, self.d_model))\n",
        "\n",
        "        return self.dense(output)\n",
        "\n",
        "# ===========================================\n",
        "# 2. Encoder (Kelas Terpisah)\n",
        "# ===========================================\n",
        "class EncoderLayer(tf.keras.layers.Layer):\n",
        "    def __init__(self, d_model, num_heads, dff, rate=0.1):\n",
        "        super().__init__()\n",
        "        self.mha = MultiHeadAttention(d_model, num_heads)\n",
        "        self.ffn = tf.keras.Sequential([\n",
        "            tf.keras.layers.Dense(dff, activation='relu'),\n",
        "            tf.keras.layers.Dense(d_model)\n",
        "        ])\n",
        "\n",
        "        self.layernorm1 = tf.keras.layers.LayerNormalization(epsilon=1e-6)\n",
        "        self.layernorm2 = tf.keras.layers.LayerNormalization(epsilon=1e-6)\n",
        "\n",
        "        self.dropout1 = tf.keras.layers.Dropout(rate)\n",
        "        self.dropout2 = tf.keras.layers.Dropout(rate)\n",
        "\n",
        "    # training dan mask adalah parameter untuk call\n",
        "    def call(self, x, training=True, mask=None): # Set training to True by default\n",
        "        # Self Attention\n",
        "        attn_output = self.mha(x, x, x, mask) # x, x, x untuk self-attention\n",
        "        attn_output = self.dropout1(attn_output, training=training)\n",
        "        out1 = self.layernorm1(x + attn_output)\n",
        "\n",
        "        # Feed Forward\n",
        "        ffn_output = self.ffn(out1)\n",
        "        ffn_output = self.dropout2(ffn_output, training=training)\n",
        "        return self.layernorm2(out1 + ffn_output)\n",
        "\n",
        "class Encoder(tf.keras.layers.Layer):\n",
        "    def __init__(self, num_layers, d_model, num_heads, dff, input_vocab_size, pe_input, rate=0.1):\n",
        "        super().__init__()\n",
        "        self.d_model = d_model\n",
        "        self.num_layers = num_layers\n",
        "\n",
        "        self.embedding = tf.keras.layers.Embedding(input_vocab_size, d_model)\n",
        "        # Inisialisasi PositionalEncoding dengan 'position' dan 'd_model'\n",
        "        self.pos_encoding = PositionalEncoding(pe_input, d_model)\n",
        "        self.enc_layers = [EncoderLayer(d_model, num_heads, dff, rate)\n",
        "                          for _ in range(num_layers)]\n",
        "        self.dropout = tf.keras.layers.Dropout(rate)\n",
        "\n",
        "    # Add training as keyword argument for consistency\n",
        "    def call(self, x, training=True, mask=None): # Set training to True by default\n",
        "        seq_len = tf.shape(x)[1]\n",
        "\n",
        "        # Penambahan positional encoding ke embedding\n",
        "        x = self.embedding(x)\n",
        "        x *= tf.math.sqrt(tf.cast(self.d_model, tf.float32)) # Skalakan embedding\n",
        "        x = self.pos_encoding(x) # Tambahkan positional encoding\n",
        "        x = self.dropout(x, training=training)\n",
        "\n",
        "        for i in range(self.num_layers):\n",
        "            # Pass training as keyword argument to EncoderLayer\n",
        "            x = self.enc_layers[i](x, training=training, mask=mask)\n",
        "\n",
        "        return x # Output dari encoder adalah representasi kaya konteks\n",
        "\n",
        "# ===========================================\n",
        "# 3. Decoder (Kelas Terpisah)\n",
        "# ===========================================\n",
        "class DecoderLayer(tf.keras.layers.Layer):\n",
        "    def __init__(self, d_model, num_heads, dff, rate=0.1):\n",
        "        super().__init__()\n",
        "        self.mha1 = MultiHeadAttention(d_model, num_heads) # Masked self-attention\n",
        "        self.mha2 = MultiHeadAttention(d_model, num_heads) # Encoder-decoder attention\n",
        "        self.ffn = tf.keras.Sequential([\n",
        "            tf.keras.layers.Dense(dff, activation='relu'),\n",
        "            tf.keras.layers.Dense(d_model)\n",
        "        ])\n",
        "\n",
        "        self.layernorm1 = tf.keras.layers.LayerNormalization(epsilon=1e-6)\n",
        "        self.layernorm2 = tf.keras.layers.LayerNormalization(epsilon=1e-6)\n",
        "        self.layernorm3 = tf.keras.layers.LayerNormalization(epsilon=1e-6)\n",
        "\n",
        "        self.dropout1 = tf.keras.layers.Dropout(rate)\n",
        "        self.dropout2 = tf.keras.layers.Dropout(rate)\n",
        "        self.dropout3 = tf.keras.layers.Dropout(rate)\n",
        "\n",
        "    # training, look_ahead_mask, dan padding_mask adalah parameter untuk call\n",
        "    def call(self, x, enc_output, training=True, look_ahead_mask=None, padding_mask=None): # Set training to True by default\n",
        "        # Masked Self Attention (menggunakan look_ahead_mask)\n",
        "        attn1 = self.mha1(x, x, x, look_ahead_mask) # query, key, value dari output decoder sebelumnya\n",
        "        attn1 = self.dropout1(attn1, training=training)\n",
        "        out1 = self.layernorm1(attn1 + x) # Add & Norm\n",
        "\n",
        "        # Encoder-Decoder Attention (menggunakan padding_mask dari encoder)\n",
        "        # query dari output masked self-attention, key dan value dari output encoder\n",
        "        attn2 = self.mha2(\n",
        "            out1, enc_output, enc_output, padding_mask # perhatikan urutan q, k, v\n",
        "        )\n",
        "        attn2 = self.dropout2(attn2, training=training)\n",
        "        out2 = self.layernorm2(attn2 + out1) # Add & Norm\n",
        "\n",
        "        # Feed Forward\n",
        "        ffn_output = self.ffn(out2)\n",
        "        ffn_output = self.dropout3(ffn_output, training=training)\n",
        "        return self.layernorm3(ffn_output + out2) # Add & Norm\n",
        "\n",
        "class Decoder(tf.keras.layers.Layer):\n",
        "    def __init__(self, num_layers, d_model, num_heads, dff, target_vocab_size, pe_target, rate=0.1):\n",
        "        super().__init__()\n",
        "        self.d_model = d_model\n",
        "        self.num_layers = num_layers\n",
        "\n",
        "        self.embedding = tf.keras.layers.Embedding(target_vocab_size, d_model)\n",
        "        # Inisialisasi PositionalEncoding dengan 'position' dan 'd_model'\n",
        "        self.pos_encoding = PositionalEncoding(pe_target, d_model)\n",
        "        self.dec_layers = [DecoderLayer(d_model, num_heads, dff, rate)\n",
        "                          for _ in range(num_layers)]\n",
        "        self.dropout = tf.keras.layers.Dropout(rate)\n",
        "\n",
        "    # Add training as keyword argument for consistency\n",
        "    def call(self, x, enc_output, training=True, look_ahead_mask=None, padding_mask=None): # Set training to True by default\n",
        "        seq_len = tf.shape(x)[1]\n",
        "\n",
        "        # Penambahan positional encoding ke embedding\n",
        "        x = self.embedding(x)\n",
        "        x *= tf.math.sqrt(tf.cast(self.d_model, tf.float32)) # Skalakan embedding\n",
        "        x = self.pos_encoding(x) # Tambahkan positional encoding\n",
        "        x = self.dropout(x, training=training)\n",
        "\n",
        "        for i in range(self.num_layers):\n",
        "            # Masukkan kedua mask ke setiap decoder layer, pass training as keyword argument\n",
        "            x = self.dec_layers[i](x, enc_output, training=training,\n",
        "                                  look_ahead_mask=look_ahead_mask, padding_mask=padding_mask)\n",
        "\n",
        "        return x # Output dari decoder stack\n",
        "\n",
        "# ===========================================\n",
        "# 4. Positional Encoding\n",
        "# ===========================================\n",
        "class PositionalEncoding(tf.keras.layers.Layer):\n",
        "    def __init__(self, position, d_model):\n",
        "        super().__init__()\n",
        "        self.pos_encoding = self.positional_encoding(position, d_model)\n",
        "\n",
        "    def positional_encoding(self, position, d_model):\n",
        "        # Menghitung sudut radian untuk setiap posisi dan setiap dimensi\n",
        "        angle_rads = np.arange(position)[:, np.newaxis] / np.power(10000, (2 * (np.arange(d_model)//2) / np.float32(d_model)))\n",
        "\n",
        "        # Terapkan sin pada posisi genap\n",
        "        angle_rads[:, 0::2] = np.sin(angle_rads[:, 0::2])\n",
        "\n",
        "        # Terapkan cos pada posisi ganjil\n",
        "        angle_rads[:, 1::2] = np.cos(angle_rads[:, 1::2])\n",
        "\n",
        "        # Tambahkan dimensi batch dan ubah ke tipe float32 Tensor\n",
        "        return tf.cast(angle_rads[np.newaxis, ...], tf.float32)\n",
        "\n",
        "    # Input x memiliki shape (batch_size, seq_len, d_model)\n",
        "    def call(self, x):\n",
        "        # Tambahkan positional encoding ke input\n",
        "        # Ambil positional encoding hanya sepanjang seq_len input\n",
        "        return x + self.pos_encoding[:, :tf.shape(x)[1], :]\n",
        "\n",
        "# ===========================================\n",
        "# 5. Transformer Model Utama\n",
        "# ===========================================\n",
        "class Transformer(tf.keras.Model):\n",
        "    def __init__(self, num_layers, d_model, num_heads, dff, input_vocab_size, target_vocab_size, pe_input, pe_target, rate=0.1):\n",
        "        super().__init__()\n",
        "        # Inisialisasi encoder dan decoder, berikan pe_input dan pe_target\n",
        "        self.encoder = Encoder(num_layers, d_model, num_heads, dff, input_vocab_size, pe_input, rate)\n",
        "        self.decoder = Decoder(num_layers, d_model, num_heads, dff, target_vocab_size, pe_target, rate)\n",
        "\n",
        "        # Layer output akhir\n",
        "        self.final_layer = tf.keras.layers.Dense(target_vocab_size)\n",
        "\n",
        "    # Metode untuk membuat mask\n",
        "    def create_masks(self, src, tgt):\n",
        "        # Mask padding untuk encoder (berdasarkan src). Digunakan di encoder self-attention\n",
        "        enc_padding_mask = tf.cast(tf.math.equal(src, 0), tf.float32)[:, tf.newaxis, tf.newaxis, :]\n",
        "\n",
        "        # Mask padding untuk decoder (berdasarkan tgt). Digunakan di decoder self-attention dan encoder-decoder attention\n",
        "        # Catatan: Asumsikan nilai padding adalah 0\n",
        "        dec_padding_mask = tf.cast(tf.math.equal(tgt, 0), tf.float32)[:, tf.newaxis, tf.newaxis, :]\n",
        "\n",
        "        # Mask look-ahead untuk decoder (untuk masked self-attention pertama di decoder)\n",
        "        look_ahead_mask = 1 - tf.linalg.band_part(\n",
        "            tf.ones((tf.shape(tgt)[1], tf.shape(tgt)[1])), -1, 0)\n",
        "\n",
        "        # Gabungkan mask look-ahead dan mask padding untuk masked self-attention di decoder\n",
        "        combined_mask = tf.maximum(dec_padding_mask, look_ahead_mask)\n",
        "\n",
        "        # Mask padding untuk encoder-decoder attention (berdasarkan src). Digunakan di MHA kedua decoder\n",
        "        # Mask ini memastikan decoder tidak memperhatikan token padding di input encoder\n",
        "        encoder_decoder_padding_mask = tf.cast(tf.math.equal(src, 0), tf.float32)[:, tf.newaxis, tf.newaxis, :]\n",
        "\n",
        "\n",
        "        # Kembalikan tiga jenis mask yang dibutuhkan\n",
        "        return enc_padding_mask, combined_mask, encoder_decoder_padding_mask\n",
        "\n",
        "    # Metode call untuk forward pass\n",
        "    def call(self, inputs, training=True):\n",
        "        src, tgt = inputs\n",
        "        # Buat semua mask yang dibutuhkan\n",
        "        enc_padding_mask, combined_mask, encoder_decoder_padding_mask = self.create_masks(src, tgt)\n",
        "\n",
        "        # Forward pass melalui encoder\n",
        "        # Pass training as keyword argument\n",
        "        enc_output = self.encoder(src, training=training, mask=enc_padding_mask)\n",
        "\n",
        "        # Forward pass melalui decoder\n",
        "        # Pass training as keyword argument\n",
        "        dec_output = self.decoder(\n",
        "            tgt, enc_output, training=training,\n",
        "            look_ahead_mask=combined_mask, # Mask gabungan untuk masked self-attention\n",
        "            padding_mask=encoder_decoder_padding_mask # Mask padding untuk encoder-decoder attention\n",
        "        )\n",
        "\n",
        "        # Layer output akhir\n",
        "        final_output = self.final_layer(dec_output)\n",
        "\n",
        "        return final_output # Output akhir adalah probabilitas distribusi kata target"
      ],
      "metadata": {
        "id": "GHaMvKU0o6Hb"
      },
      "execution_count": 8,
      "outputs": []
    },
    {
      "cell_type": "markdown",
      "source": [
        "#Training & Evaluasi"
      ],
      "metadata": {
        "id": "NbE2JyIQpX_j"
      }
    },
    {
      "cell_type": "code",
      "source": [
        "# Hyperparameter Eksperiman 1\n",
        "NUM_LAYERS = 2\n",
        "D_MODEL = 64\n",
        "NUM_HEADS = 4\n",
        "DFF = 256\n",
        "INPUT_VOCAB_SIZE = 500\n",
        "TARGET_VOCAB_SIZE = 500\n",
        "MAX_POSITION_ENCODING = 500\n",
        "\n",
        "# Inisialisasi model\n",
        "transformer = Transformer(\n",
        "    NUM_LAYERS, D_MODEL, NUM_HEADS, DFF,\n",
        "    INPUT_VOCAB_SIZE, TARGET_VOCAB_SIZE,\n",
        "    MAX_POSITION_ENCODING, MAX_POSITION_ENCODING\n",
        ")\n",
        "# Kompilasi model\n",
        "transformer.compile(\n",
        "    optimizer='adam',\n",
        "    loss=tf.keras.losses.SparseCategoricalCrossentropy(from_logits=True),\n",
        "    metrics=['accuracy']\n",
        ")"
      ],
      "metadata": {
        "id": "XI001LEa7b7j"
      },
      "execution_count": 9,
      "outputs": []
    },
    {
      "cell_type": "code",
      "source": [
        "# Callback untuk early stopping\n",
        "early_stop = tf.keras.callbacks.EarlyStopping(\n",
        "    monitor='val_loss',\n",
        "    patience=1,\n",
        "    restore_best_weights=True\n",
        ")\n",
        "\n",
        "# Training\n",
        "history = transformer.fit(\n",
        "    train_dataset,\n",
        "    epochs=20,\n",
        "    validation_data=val_dataset,\n",
        "    callbacks=[early_stop]\n",
        ")"
      ],
      "metadata": {
        "colab": {
          "base_uri": "https://localhost:8080/"
        },
        "id": "I4deoLc3pZMQ",
        "outputId": "d8088e87-8565-4e35-f0f9-36ab92711645"
      },
      "execution_count": 10,
      "outputs": [
        {
          "output_type": "stream",
          "name": "stdout",
          "text": [
            "Epoch 1/20\n",
            "\u001b[1m3798/3798\u001b[0m \u001b[32m━━━━━━━━━━━━━━━━━━━━\u001b[0m\u001b[37m\u001b[0m \u001b[1m68s\u001b[0m 9ms/step - accuracy: 0.8992 - loss: 0.6853 - val_accuracy: 0.9239 - val_loss: 0.4047\n",
            "Epoch 2/20\n",
            "\u001b[1m3798/3798\u001b[0m \u001b[32m━━━━━━━━━━━━━━━━━━━━\u001b[0m\u001b[37m\u001b[0m \u001b[1m34s\u001b[0m 9ms/step - accuracy: 0.9247 - loss: 0.3940 - val_accuracy: 0.9328 - val_loss: 0.3388\n",
            "Epoch 3/20\n",
            "\u001b[1m3798/3798\u001b[0m \u001b[32m━━━━━━━━━━━━━━━━━━━━\u001b[0m\u001b[37m\u001b[0m \u001b[1m32s\u001b[0m 8ms/step - accuracy: 0.9324 - loss: 0.3295 - val_accuracy: 0.9378 - val_loss: 0.3039\n",
            "Epoch 4/20\n",
            "\u001b[1m3798/3798\u001b[0m \u001b[32m━━━━━━━━━━━━━━━━━━━━\u001b[0m\u001b[37m\u001b[0m \u001b[1m32s\u001b[0m 8ms/step - accuracy: 0.9395 - loss: 0.2819 - val_accuracy: 0.9417 - val_loss: 0.2826\n",
            "Epoch 5/20\n",
            "\u001b[1m3798/3798\u001b[0m \u001b[32m━━━━━━━━━━━━━━━━━━━━\u001b[0m\u001b[37m\u001b[0m \u001b[1m35s\u001b[0m 9ms/step - accuracy: 0.9438 - loss: 0.2530 - val_accuracy: 0.9451 - val_loss: 0.2628\n",
            "Epoch 6/20\n",
            "\u001b[1m3798/3798\u001b[0m \u001b[32m━━━━━━━━━━━━━━━━━━━━\u001b[0m\u001b[37m\u001b[0m \u001b[1m32s\u001b[0m 8ms/step - accuracy: 0.9472 - loss: 0.2306 - val_accuracy: 0.9466 - val_loss: 0.2561\n",
            "Epoch 7/20\n",
            "\u001b[1m3798/3798\u001b[0m \u001b[32m━━━━━━━━━━━━━━━━━━━━\u001b[0m\u001b[37m\u001b[0m \u001b[1m33s\u001b[0m 9ms/step - accuracy: 0.9503 - loss: 0.2144 - val_accuracy: 0.9489 - val_loss: 0.2429\n",
            "Epoch 8/20\n",
            "\u001b[1m3798/3798\u001b[0m \u001b[32m━━━━━━━━━━━━━━━━━━━━\u001b[0m\u001b[37m\u001b[0m \u001b[1m32s\u001b[0m 8ms/step - accuracy: 0.9528 - loss: 0.1975 - val_accuracy: 0.9505 - val_loss: 0.2368\n",
            "Epoch 9/20\n",
            "\u001b[1m3798/3798\u001b[0m \u001b[32m━━━━━━━━━━━━━━━━━━━━\u001b[0m\u001b[37m\u001b[0m \u001b[1m32s\u001b[0m 8ms/step - accuracy: 0.9548 - loss: 0.1876 - val_accuracy: 0.9525 - val_loss: 0.2299\n",
            "Epoch 10/20\n",
            "\u001b[1m3798/3798\u001b[0m \u001b[32m━━━━━━━━━━━━━━━━━━━━\u001b[0m\u001b[37m\u001b[0m \u001b[1m32s\u001b[0m 8ms/step - accuracy: 0.9558 - loss: 0.1807 - val_accuracy: 0.9513 - val_loss: 0.2346\n"
          ]
        }
      ]
    },
    {
      "cell_type": "code",
      "source": [
        "# Hyperparameter (Contoh untuk Eksperimen 2)\n",
        "NUM_LAYERS = 2\n",
        "D_MODEL_2 = 32  # Diubah\n",
        "NUM_HEADS_2 = 2  # Diubah\n",
        "DFF = 256      # Tetap\n",
        "INPUT_VOCAB_SIZE = 500\n",
        "TARGET_VOCAB_SIZE = 500\n",
        "MAX_POSITION_ENCODING = 500\n",
        "\n",
        "# Inisialisasi model\n",
        "transformer2 = Transformer(\n",
        "    NUM_LAYERS, D_MODEL_2, NUM_HEADS_2, DFF,\n",
        "    INPUT_VOCAB_SIZE, TARGET_VOCAB_SIZE,\n",
        "    MAX_POSITION_ENCODING, MAX_POSITION_ENCODING\n",
        ")\n",
        "\n",
        "# Kompilasi model\n",
        "transformer2.compile(\n",
        "    optimizer='adam',\n",
        "    loss=tf.keras.losses.SparseCategoricalCrossentropy(from_logits=True),\n",
        "    metrics=['accuracy']\n",
        ")\n",
        "# Training\n",
        "history2 = transformer2.fit(\n",
        "    train_dataset,\n",
        "    epochs=20,\n",
        "    validation_data=val_dataset,\n",
        "    callbacks=[early_stop]\n",
        ")"
      ],
      "metadata": {
        "colab": {
          "base_uri": "https://localhost:8080/"
        },
        "id": "iaB1wC2qOPV9",
        "outputId": "87736f9f-c8f3-4a3d-a637-b3b3d61bf12d"
      },
      "execution_count": 11,
      "outputs": [
        {
          "output_type": "stream",
          "name": "stdout",
          "text": [
            "Epoch 1/20\n",
            "\u001b[1m3798/3798\u001b[0m \u001b[32m━━━━━━━━━━━━━━━━━━━━\u001b[0m\u001b[37m\u001b[0m \u001b[1m67s\u001b[0m 9ms/step - accuracy: 0.8957 - loss: 0.8401 - val_accuracy: 0.9219 - val_loss: 0.4355\n",
            "Epoch 2/20\n",
            "\u001b[1m3798/3798\u001b[0m \u001b[32m━━━━━━━━━━━━━━━━━━━━\u001b[0m\u001b[37m\u001b[0m \u001b[1m31s\u001b[0m 8ms/step - accuracy: 0.9229 - loss: 0.4195 - val_accuracy: 0.9328 - val_loss: 0.3503\n",
            "Epoch 3/20\n",
            "\u001b[1m3798/3798\u001b[0m \u001b[32m━━━━━━━━━━━━━━━━━━━━\u001b[0m\u001b[37m\u001b[0m \u001b[1m30s\u001b[0m 8ms/step - accuracy: 0.9325 - loss: 0.3441 - val_accuracy: 0.9405 - val_loss: 0.3043\n",
            "Epoch 4/20\n",
            "\u001b[1m3798/3798\u001b[0m \u001b[32m━━━━━━━━━━━━━━━━━━━━\u001b[0m\u001b[37m\u001b[0m \u001b[1m31s\u001b[0m 8ms/step - accuracy: 0.9400 - loss: 0.2937 - val_accuracy: 0.9469 - val_loss: 0.2663\n",
            "Epoch 5/20\n",
            "\u001b[1m3798/3798\u001b[0m \u001b[32m━━━━━━━━━━━━━━━━━━━━\u001b[0m\u001b[37m\u001b[0m \u001b[1m31s\u001b[0m 8ms/step - accuracy: 0.9450 - loss: 0.2583 - val_accuracy: 0.9501 - val_loss: 0.2473\n",
            "Epoch 6/20\n",
            "\u001b[1m3798/3798\u001b[0m \u001b[32m━━━━━━━━━━━━━━━━━━━━\u001b[0m\u001b[37m\u001b[0m \u001b[1m33s\u001b[0m 9ms/step - accuracy: 0.9499 - loss: 0.2327 - val_accuracy: 0.9527 - val_loss: 0.2332\n",
            "Epoch 7/20\n",
            "\u001b[1m3798/3798\u001b[0m \u001b[32m━━━━━━━━━━━━━━━━━━━━\u001b[0m\u001b[37m\u001b[0m \u001b[1m33s\u001b[0m 9ms/step - accuracy: 0.9524 - loss: 0.2152 - val_accuracy: 0.9547 - val_loss: 0.2256\n",
            "Epoch 8/20\n",
            "\u001b[1m3798/3798\u001b[0m \u001b[32m━━━━━━━━━━━━━━━━━━━━\u001b[0m\u001b[37m\u001b[0m \u001b[1m31s\u001b[0m 8ms/step - accuracy: 0.9546 - loss: 0.2011 - val_accuracy: 0.9547 - val_loss: 0.2216\n",
            "Epoch 9/20\n",
            "\u001b[1m3798/3798\u001b[0m \u001b[32m━━━━━━━━━━━━━━━━━━━━\u001b[0m\u001b[37m\u001b[0m \u001b[1m31s\u001b[0m 8ms/step - accuracy: 0.9568 - loss: 0.1901 - val_accuracy: 0.9559 - val_loss: 0.2179\n",
            "Epoch 10/20\n",
            "\u001b[1m3798/3798\u001b[0m \u001b[32m━━━━━━━━━━━━━━━━━━━━\u001b[0m\u001b[37m\u001b[0m \u001b[1m43s\u001b[0m 9ms/step - accuracy: 0.9575 - loss: 0.1855 - val_accuracy: 0.9575 - val_loss: 0.2146\n",
            "Epoch 11/20\n",
            "\u001b[1m3798/3798\u001b[0m \u001b[32m━━━━━━━━━━━━━━━━━━━━\u001b[0m\u001b[37m\u001b[0m \u001b[1m31s\u001b[0m 8ms/step - accuracy: 0.9593 - loss: 0.1766 - val_accuracy: 0.9577 - val_loss: 0.2134\n",
            "Epoch 12/20\n",
            "\u001b[1m3798/3798\u001b[0m \u001b[32m━━━━━━━━━━━━━━━━━━━━\u001b[0m\u001b[37m\u001b[0m \u001b[1m32s\u001b[0m 8ms/step - accuracy: 0.9600 - loss: 0.1716 - val_accuracy: 0.9578 - val_loss: 0.2099\n",
            "Epoch 13/20\n",
            "\u001b[1m3798/3798\u001b[0m \u001b[32m━━━━━━━━━━━━━━━━━━━━\u001b[0m\u001b[37m\u001b[0m \u001b[1m33s\u001b[0m 9ms/step - accuracy: 0.9604 - loss: 0.1688 - val_accuracy: 0.9577 - val_loss: 0.2098\n",
            "Epoch 14/20\n",
            "\u001b[1m3798/3798\u001b[0m \u001b[32m━━━━━━━━━━━━━━━━━━━━\u001b[0m\u001b[37m\u001b[0m \u001b[1m34s\u001b[0m 9ms/step - accuracy: 0.9614 - loss: 0.1624 - val_accuracy: 0.9575 - val_loss: 0.2120\n"
          ]
        }
      ]
    },
    {
      "cell_type": "code",
      "source": [
        "# Hyperparameter (Contoh untuk Eksperimen 3)\n",
        "NUM_LAYERS = 2\n",
        "D_MODEL_3 = 64  # Tetap\n",
        "NUM_HEADS_3 = 4  # Tetap\n",
        "DFF_3 = 128      # Di ubah\n",
        "INPUT_VOCAB_SIZE = 500\n",
        "TARGET_VOCAB_SIZE = 500\n",
        "MAX_POSITION_ENCODING = 500\n",
        "\n",
        "# Inisialisasi model\n",
        "transformer3 = Transformer(\n",
        "    NUM_LAYERS, D_MODEL_3, NUM_HEADS_3, DFF_3,\n",
        "    INPUT_VOCAB_SIZE, TARGET_VOCAB_SIZE,\n",
        "    MAX_POSITION_ENCODING, MAX_POSITION_ENCODING\n",
        ")\n",
        "\n",
        "# Kompilasi model\n",
        "transformer3.compile(\n",
        "    optimizer='adam',\n",
        "    loss=tf.keras.losses.SparseCategoricalCrossentropy(from_logits=True),\n",
        "    metrics=['accuracy']\n",
        ")\n",
        "# Training\n",
        "history3 = transformer3.fit(\n",
        "    train_dataset,\n",
        "    epochs=20,\n",
        "    validation_data=val_dataset,\n",
        "    callbacks=[early_stop]\n",
        ")"
      ],
      "metadata": {
        "colab": {
          "base_uri": "https://localhost:8080/"
        },
        "id": "Fbto-UChb6vH",
        "outputId": "8f6d29c8-ca7c-4a61-a09e-539601604c4a"
      },
      "execution_count": 12,
      "outputs": [
        {
          "output_type": "stream",
          "name": "stdout",
          "text": [
            "Epoch 1/20\n",
            "\u001b[1m3798/3798\u001b[0m \u001b[32m━━━━━━━━━━━━━━━━━━━━\u001b[0m\u001b[37m\u001b[0m \u001b[1m67s\u001b[0m 9ms/step - accuracy: 0.9006 - loss: 0.6819 - val_accuracy: 0.9266 - val_loss: 0.3923\n",
            "Epoch 2/20\n",
            "\u001b[1m3798/3798\u001b[0m \u001b[32m━━━━━━━━━━━━━━━━━━━━\u001b[0m\u001b[37m\u001b[0m \u001b[1m31s\u001b[0m 8ms/step - accuracy: 0.9276 - loss: 0.3794 - val_accuracy: 0.9358 - val_loss: 0.3220\n",
            "Epoch 3/20\n",
            "\u001b[1m3798/3798\u001b[0m \u001b[32m━━━━━━━━━━━━━━━━━━━━\u001b[0m\u001b[37m\u001b[0m \u001b[1m32s\u001b[0m 8ms/step - accuracy: 0.9359 - loss: 0.3098 - val_accuracy: 0.9412 - val_loss: 0.2833\n",
            "Epoch 4/20\n",
            "\u001b[1m3798/3798\u001b[0m \u001b[32m━━━━━━━━━━━━━━━━━━━━\u001b[0m\u001b[37m\u001b[0m \u001b[1m31s\u001b[0m 8ms/step - accuracy: 0.9421 - loss: 0.2641 - val_accuracy: 0.9448 - val_loss: 0.2643\n",
            "Epoch 5/20\n",
            "\u001b[1m3798/3798\u001b[0m \u001b[32m━━━━━━━━━━━━━━━━━━━━\u001b[0m\u001b[37m\u001b[0m \u001b[1m44s\u001b[0m 9ms/step - accuracy: 0.9468 - loss: 0.2346 - val_accuracy: 0.9488 - val_loss: 0.2447\n",
            "Epoch 6/20\n",
            "\u001b[1m3798/3798\u001b[0m \u001b[32m━━━━━━━━━━━━━━━━━━━━\u001b[0m\u001b[37m\u001b[0m \u001b[1m39s\u001b[0m 8ms/step - accuracy: 0.9514 - loss: 0.2114 - val_accuracy: 0.9504 - val_loss: 0.2375\n",
            "Epoch 7/20\n",
            "\u001b[1m3798/3798\u001b[0m \u001b[32m━━━━━━━━━━━━━━━━━━━━\u001b[0m\u001b[37m\u001b[0m \u001b[1m31s\u001b[0m 8ms/step - accuracy: 0.9538 - loss: 0.1975 - val_accuracy: 0.9532 - val_loss: 0.2271\n",
            "Epoch 8/20\n",
            "\u001b[1m3798/3798\u001b[0m \u001b[32m━━━━━━━━━━━━━━━━━━━━\u001b[0m\u001b[37m\u001b[0m \u001b[1m31s\u001b[0m 8ms/step - accuracy: 0.9556 - loss: 0.1845 - val_accuracy: 0.9545 - val_loss: 0.2200\n",
            "Epoch 9/20\n",
            "\u001b[1m3798/3798\u001b[0m \u001b[32m━━━━━━━━━━━━━━━━━━━━\u001b[0m\u001b[37m\u001b[0m \u001b[1m32s\u001b[0m 8ms/step - accuracy: 0.9583 - loss: 0.1720 - val_accuracy: 0.9548 - val_loss: 0.2170\n",
            "Epoch 10/20\n",
            "\u001b[1m3798/3798\u001b[0m \u001b[32m━━━━━━━━━━━━━━━━━━━━\u001b[0m\u001b[37m\u001b[0m \u001b[1m31s\u001b[0m 8ms/step - accuracy: 0.9600 - loss: 0.1626 - val_accuracy: 0.9551 - val_loss: 0.2155\n",
            "Epoch 11/20\n",
            "\u001b[1m3798/3798\u001b[0m \u001b[32m━━━━━━━━━━━━━━━━━━━━\u001b[0m\u001b[37m\u001b[0m \u001b[1m33s\u001b[0m 9ms/step - accuracy: 0.9610 - loss: 0.1550 - val_accuracy: 0.9556 - val_loss: 0.2152\n",
            "Epoch 12/20\n",
            "\u001b[1m3798/3798\u001b[0m \u001b[32m━━━━━━━━━━━━━━━━━━━━\u001b[0m\u001b[37m\u001b[0m \u001b[1m32s\u001b[0m 8ms/step - accuracy: 0.9625 - loss: 0.1495 - val_accuracy: 0.9572 - val_loss: 0.2095\n",
            "Epoch 13/20\n",
            "\u001b[1m3798/3798\u001b[0m \u001b[32m━━━━━━━━━━━━━━━━━━━━\u001b[0m\u001b[37m\u001b[0m \u001b[1m33s\u001b[0m 9ms/step - accuracy: 0.9631 - loss: 0.1448 - val_accuracy: 0.9559 - val_loss: 0.2170\n"
          ]
        }
      ]
    },
    {
      "cell_type": "code",
      "source": [
        "# Eksperimen 1\n",
        "import numpy as np\n",
        "from sklearn.metrics import f1_score\n",
        "\n",
        "y_true_all = []\n",
        "y_pred_all = []\n",
        "\n",
        "padding_token_id = 0\n",
        "\n",
        "for (src_batch, tgt_in_batch), tgt_out_batch_true in val_dataset:\n",
        "    # Dapatkan prediksi logits dari model\n",
        "    predictions_logits = transformer((src_batch, tgt_in_batch), training=False)\n",
        "    # Dapatkan ID token yang diprediksi\n",
        "    predicted_ids_batch = tf.argmax(predictions_logits, axis=-1).numpy() # (BATCH_SIZE, MAX_SEQ_LENGTH_TGT_OUT)\n",
        "\n",
        "    # Tambahkan ke list\n",
        "    for i in range(tgt_out_batch_true.shape[0]): # Iterasi melalui item dalam batch\n",
        "        true_sequence = tgt_out_batch_true[i].numpy() # (MAX_SEQ_LENGTH_TGT_OUT)\n",
        "        pred_sequence = predicted_ids_batch[i]    # (MAX_SEQ_LENGTH_TGT_OUT)\n",
        "\n",
        "        # Filter padding tokens\n",
        "        # Mask untuk token yang bukan padding di true_sequence\n",
        "        # Kita hanya evaluasi sampai panjang sekuens asli (sebelum dipadding oleh tgt_out)\n",
        "        # atau di mana targetnya bukan padding.\n",
        "        non_padding_mask_true = (true_sequence != padding_token_id)\n",
        "\n",
        "        # Ambil token yang relevan (bukan padding)\n",
        "        relevant_true_tokens = true_sequence[non_padding_mask_true]\n",
        "        relevant_pred_tokens = pred_sequence[non_padding_mask_true] # Prediksi pada posisi yang sama\n",
        "                                                                    # dengan true token yang bukan padding\n",
        "\n",
        "        if relevant_true_tokens.size > 0: # Hanya jika ada token yang tidak di-padding\n",
        "            y_true_all.extend(relevant_true_tokens.tolist())\n",
        "            y_pred_all.extend(relevant_pred_tokens.tolist())\n",
        "\n",
        "# Pastikan y_true_all dan y_pred_all tidak kosong\n",
        "if not y_true_all or not y_pred_all:\n",
        "    print(\"Tidak ada data valid untuk menghitung F1-score (mungkin semua adalah padding).\")\n",
        "else:\n",
        "    # Hitung F1-Score\n",
        "    # 'weighted': Menghitung metrik untuk setiap label, dan mencari rata-rata tertimbang berdasarkan jumlah sampel sebenarnya per label.\n",
        "    # 'macro': Menghitung metrik untuk setiap label, dan mencari rata-rata yang tidak tertimbang.\n",
        "    # 'micro': Menghitung metrik secara global dengan menghitung total true positives, false negatives, dan false positives.\n",
        "    f1_weighted = f1_score(y_true_all, y_pred_all, average='weighted', zero_division=0)\n",
        "    f1_macro = f1_score(y_true_all, y_pred_all, average='macro', zero_division=0)\n",
        "    f1_micro = f1_score(y_true_all, y_pred_all, average='micro', zero_division=0)\n",
        "\n",
        "    print(f\"F1-Score (Weighted): {f1_weighted:.4f}\")\n",
        "    print(f\"F1-Score (Macro): {f1_macro:.4f}\")\n",
        "    print(f\"F1-Score (Micro): {f1_micro:.4f}\")"
      ],
      "metadata": {
        "colab": {
          "base_uri": "https://localhost:8080/"
        },
        "id": "wOB74dj8hl5e",
        "outputId": "b11ddaa9-bbd1-4648-8004-ec5e3ec5e675"
      },
      "execution_count": 13,
      "outputs": [
        {
          "output_type": "stream",
          "name": "stdout",
          "text": [
            "F1-Score (Weighted): 0.6100\n",
            "F1-Score (Macro): 0.4175\n",
            "F1-Score (Micro): 0.6319\n"
          ]
        }
      ]
    },
    {
      "cell_type": "code",
      "source": [
        "# Eksperimen 2\n",
        "import numpy as np\n",
        "from sklearn.metrics import f1_score\n",
        "\n",
        "y_true_all = []\n",
        "y_pred_all = []\n",
        "\n",
        "padding_token_id = 0\n",
        "\n",
        "for (src_batch, tgt_in_batch), tgt_out_batch_true in val_dataset:\n",
        "    # Dapatkan prediksi logits dari model\n",
        "    predictions_logits = transformer2((src_batch, tgt_in_batch), training=False)\n",
        "    # Dapatkan ID token yang diprediksi\n",
        "    predicted_ids_batch = tf.argmax(predictions_logits, axis=-1).numpy() # (BATCH_SIZE, MAX_SEQ_LENGTH_TGT_OUT)\n",
        "\n",
        "    # Tambahkan ke list\n",
        "    for i in range(tgt_out_batch_true.shape[0]): # Iterasi melalui item dalam batch\n",
        "        true_sequence = tgt_out_batch_true[i].numpy() # (MAX_SEQ_LENGTH_TGT_OUT)\n",
        "        pred_sequence = predicted_ids_batch[i]    # (MAX_SEQ_LENGTH_TGT_OUT)\n",
        "\n",
        "        # Filter padding tokens\n",
        "        # Mask untuk token yang bukan padding di true_sequence\n",
        "        # Kita hanya evaluasi sampai panjang sekuens asli (sebelum dipadding oleh tgt_out)\n",
        "        # atau di mana targetnya bukan padding.\n",
        "        non_padding_mask_true = (true_sequence != padding_token_id)\n",
        "\n",
        "        # Ambil token yang relevan (bukan padding)\n",
        "        relevant_true_tokens = true_sequence[non_padding_mask_true]\n",
        "        relevant_pred_tokens = pred_sequence[non_padding_mask_true] # Prediksi pada posisi yang sama\n",
        "                                                                    # dengan true token yang bukan padding\n",
        "\n",
        "        if relevant_true_tokens.size > 0: # Hanya jika ada token yang tidak di-padding\n",
        "            y_true_all.extend(relevant_true_tokens.tolist())\n",
        "            y_pred_all.extend(relevant_pred_tokens.tolist())\n",
        "\n",
        "# Pastikan y_true_all dan y_pred_all tidak kosong\n",
        "if not y_true_all or not y_pred_all:\n",
        "    print(\"Tidak ada data valid untuk menghitung F1-score (mungkin semua adalah padding).\")\n",
        "else:\n",
        "    # Hitung F1-Score\n",
        "    # 'weighted': Menghitung metrik untuk setiap label, dan mencari rata-rata tertimbang berdasarkan jumlah sampel sebenarnya per label.\n",
        "    # 'macro': Menghitung metrik untuk setiap label, dan mencari rata-rata yang tidak tertimbang.\n",
        "    # 'micro': Menghitung metrik secara global dengan menghitung total true positives, false negatives, dan false positives.\n",
        "    f1_weighted = f1_score(y_true_all, y_pred_all, average='weighted', zero_division=0)\n",
        "    f1_macro = f1_score(y_true_all, y_pred_all, average='macro', zero_division=0)\n",
        "    f1_micro = f1_score(y_true_all, y_pred_all, average='micro', zero_division=0)\n",
        "\n",
        "    print(f\"F1-Score (Weighted): {f1_weighted:.4f}\")\n",
        "    print(f\"F1-Score (Macro): {f1_macro:.4f}\")\n",
        "    print(f\"F1-Score (Micro): {f1_micro:.4f}\")"
      ],
      "metadata": {
        "colab": {
          "base_uri": "https://localhost:8080/"
        },
        "id": "FNFz7pjDKZJ_",
        "outputId": "a87b870b-f2f0-4332-e441-0dede6b60eee"
      },
      "execution_count": 14,
      "outputs": [
        {
          "output_type": "stream",
          "name": "stdout",
          "text": [
            "F1-Score (Weighted): 0.6595\n",
            "F1-Score (Macro): 0.4988\n",
            "F1-Score (Micro): 0.6726\n"
          ]
        }
      ]
    },
    {
      "cell_type": "code",
      "source": [
        "# Eksperimen 3\n",
        "import numpy as np\n",
        "from sklearn.metrics import f1_score\n",
        "\n",
        "y_true_all = []\n",
        "y_pred_all = []\n",
        "\n",
        "padding_token_id = 0\n",
        "\n",
        "for (src_batch, tgt_in_batch), tgt_out_batch_true in val_dataset:\n",
        "    # Dapatkan prediksi logits dari model\n",
        "    predictions_logits = transformer3((src_batch, tgt_in_batch), training=False)\n",
        "    # Dapatkan ID token yang diprediksi\n",
        "    predicted_ids_batch = tf.argmax(predictions_logits, axis=-1).numpy() # (BATCH_SIZE, MAX_SEQ_LENGTH_TGT_OUT)\n",
        "\n",
        "    # Tambahkan ke list\n",
        "    for i in range(tgt_out_batch_true.shape[0]): # Iterasi melalui item dalam batch\n",
        "        true_sequence = tgt_out_batch_true[i].numpy() # (MAX_SEQ_LENGTH_TGT_OUT)\n",
        "        pred_sequence = predicted_ids_batch[i]    # (MAX_SEQ_LENGTH_TGT_OUT)\n",
        "\n",
        "        # Filter padding tokens\n",
        "        # Mask untuk token yang bukan padding di true_sequence\n",
        "        # Kita hanya evaluasi sampai panjang sekuens asli (sebelum dipadding oleh tgt_out)\n",
        "        # atau di mana targetnya bukan padding.\n",
        "        non_padding_mask_true = (true_sequence != padding_token_id)\n",
        "\n",
        "        # Ambil token yang relevan (bukan padding)\n",
        "        relevant_true_tokens = true_sequence[non_padding_mask_true]\n",
        "        relevant_pred_tokens = pred_sequence[non_padding_mask_true] # Prediksi pada posisi yang sama\n",
        "                                                                    # dengan true token yang bukan padding\n",
        "\n",
        "        if relevant_true_tokens.size > 0: # Hanya jika ada token yang tidak di-padding\n",
        "            y_true_all.extend(relevant_true_tokens.tolist())\n",
        "            y_pred_all.extend(relevant_pred_tokens.tolist())\n",
        "\n",
        "# Pastikan y_true_all dan y_pred_all tidak kosong\n",
        "if not y_true_all or not y_pred_all:\n",
        "    print(\"Tidak ada data valid untuk menghitung F1-score (mungkin semua adalah padding).\")\n",
        "else:\n",
        "    # Hitung F1-Score\n",
        "    # 'weighted': Menghitung metrik untuk setiap label, dan mencari rata-rata tertimbang berdasarkan jumlah sampel sebenarnya per label.\n",
        "    # 'macro': Menghitung metrik untuk setiap label, dan mencari rata-rata yang tidak tertimbang.\n",
        "    # 'micro': Menghitung metrik secara global dengan menghitung total true positives, false negatives, dan false positives.\n",
        "    f1_weighted = f1_score(y_true_all, y_pred_all, average='weighted', zero_division=0)\n",
        "    f1_macro = f1_score(y_true_all, y_pred_all, average='macro', zero_division=0)\n",
        "    f1_micro = f1_score(y_true_all, y_pred_all, average='micro', zero_division=0)\n",
        "\n",
        "    print(f\"F1-Score (Weighted): {f1_weighted:.4f}\")\n",
        "    print(f\"F1-Score (Macro): {f1_macro:.4f}\")\n",
        "    print(f\"F1-Score (Micro): {f1_micro:.4f}\")"
      ],
      "metadata": {
        "colab": {
          "base_uri": "https://localhost:8080/"
        },
        "id": "0hFbR0Uch_pu",
        "outputId": "280700cd-f844-4dd5-edbb-f8cb4b5a7d0f"
      },
      "execution_count": 15,
      "outputs": [
        {
          "output_type": "stream",
          "name": "stdout",
          "text": [
            "F1-Score (Weighted): 0.6541\n",
            "F1-Score (Macro): 0.5096\n",
            "F1-Score (Micro): 0.6683\n"
          ]
        }
      ]
    },
    {
      "cell_type": "code",
      "source": [
        "# ===========================================\n",
        "# 5. Visualisasi Hasil Eksperimen 1\n",
        "# ===========================================\n",
        "plt.figure(figsize=(12, 4))\n",
        "plt.subplot(1, 2, 1)\n",
        "plt.plot(history.history['loss'], label='Train Loss')\n",
        "plt.plot(history.history['val_loss'], label='Val Loss')\n",
        "plt.legend()\n",
        "plt.title('Training & Validation Loss')\n",
        "\n",
        "plt.subplot(1, 2, 2)\n",
        "plt.plot(history.history['accuracy'], label='Train Accuracy')\n",
        "plt.plot(history.history['val_accuracy'], label='Val Accuracy')\n",
        "plt.legend()\n",
        "plt.title('Training & Validation Accuracy')\n",
        "plt.show()"
      ],
      "metadata": {
        "colab": {
          "base_uri": "https://localhost:8080/",
          "height": 341
        },
        "id": "5vKMEWARw2rC",
        "outputId": "ce7360c6-8cf9-44dc-e060-fedfbfe06f1d"
      },
      "execution_count": 16,
      "outputs": [
        {
          "output_type": "display_data",
          "data": {
            "text/plain": [
              "<Figure size 1200x400 with 2 Axes>"
            ],
            "image/png": "[encoded data removed]"
          },
          "metadata": {}
        }
      ]
    },
    {
      "cell_type": "code",
      "source": [
        "# ===========================================\n",
        "# 5. Visualisasi Hasil Eksperimen 2\n",
        "# ===========================================\n",
        "plt.figure(figsize=(12, 4))\n",
        "plt.subplot(1, 2, 1)\n",
        "plt.plot(history2.history['loss'], label='Train Loss')\n",
        "plt.plot(history2.history['val_loss'], label='Val Loss')\n",
        "plt.legend()\n",
        "plt.title('Training & Validation Loss')\n",
        "\n",
        "plt.subplot(1, 2, 2)\n",
        "plt.plot(history2.history['accuracy'], label='Train Accuracy')\n",
        "plt.plot(history2.history['val_accuracy'], label='Val Accuracy')\n",
        "plt.legend()\n",
        "plt.title('Training & Validation Accuracy')\n",
        "plt.show()"
      ],
      "metadata": {
        "colab": {
          "base_uri": "https://localhost:8080/",
          "height": 341
        },
        "id": "WR1aNAfzbGzz",
        "outputId": "2adffc34-0c5b-4142-ba52-eccdb9a07e23"
      },
      "execution_count": 17,
      "outputs": [
        {
          "output_type": "display_data",
          "data": {
            "text/plain": [
              "<Figure size 1200x400 with 2 Axes>"
            ],
            "image/png": "[encoded data removed]"
          },
          "metadata": {}
        }
      ]
    },
    {
      "cell_type": "code",
      "source": [
        "# ===========================================\n",
        "# 5. Visualisasi Hasil Eksperimen 3\n",
        "# ===========================================\n",
        "plt.figure(figsize=(12, 4))\n",
        "plt.subplot(1, 2, 1)\n",
        "plt.plot(history3.history['loss'], label='Train Loss')\n",
        "plt.plot(history3.history['val_loss'], label='Val Loss')\n",
        "plt.legend()\n",
        "plt.title('Training & Validation Loss')\n",
        "\n",
        "plt.subplot(1, 2, 2)\n",
        "plt.plot(history3.history['accuracy'], label='Train Accuracy')\n",
        "plt.plot(history3.history['val_accuracy'], label='Val Accuracy')\n",
        "plt.legend()\n",
        "plt.title('Training & Validation Accuracy')\n",
        "plt.show()"
      ],
      "metadata": {
        "colab": {
          "base_uri": "https://localhost:8080/",
          "height": 341
        },
        "id": "wEgSDxNvgdyC",
        "outputId": "a5bbd292-998c-445f-bd12-8f902fc1938e"
      },
      "execution_count": 18,
      "outputs": [
        {
          "output_type": "display_data",
          "data": {
            "text/plain": [
              "<Figure size 1200x400 with 2 Axes>"
            ],
            "image/png": "[encoded data removed]"
          },
          "metadata": {}
        }
      ]
    },
    {
      "cell_type": "code",
      "source": [
        "transformer.summary()"
      ],
      "metadata": {
        "colab": {
          "base_uri": "https://localhost:8080/",
          "height": 241
        },
        "id": "fUgjSjbw-TIQ",
        "outputId": "9c1eafcc-d301-445f-b1a9-a7cb38c86ca0"
      },
      "execution_count": 19,
      "outputs": [
        {
          "output_type": "display_data",
          "data": {
            "text/plain": [
              "\u001b[1mModel: \"transformer\"\u001b[0m\n"
            ],
            "text/html": [
              "<pre style=\"white-space:pre;overflow-x:auto;line-height:normal;font-family:Menlo,'DejaVu Sans Mono',consolas,'Courier New',monospace\"><span style=\"font-weight: bold\">Model: \"transformer\"</span>\n",
              "</pre>\n"
            ]
          },
          "metadata": {}
        },
        {
          "output_type": "display_data",
          "data": {
            "text/plain": [
              "┏━━━━━━━━━━━━━━━━━━━━━━━━━━━━━━━━━┳━━━━━━━━━━━━━━━━━━━━━━━━┳━━━━━━━━━━━━━━━┓\n",
              "┃\u001b[1m \u001b[0m\u001b[1mLayer (type)                   \u001b[0m\u001b[1m \u001b[0m┃\u001b[1m \u001b[0m\u001b[1mOutput Shape          \u001b[0m\u001b[1m \u001b[0m┃\u001b[1m \u001b[0m\u001b[1m      Param #\u001b[0m\u001b[1m \u001b[0m┃\n",
              "┡━━━━━━━━━━━━━━━━━━━━━━━━━━━━━━━━━╇━━━━━━━━━━━━━━━━━━━━━━━━╇━━━━━━━━━━━━━━━┩\n",
              "│ encoder (\u001b[38;5;33mEncoder\u001b[0m)               │ ?                      │       \u001b[38;5;34m131,968\u001b[0m │\n",
              "├─────────────────────────────────┼────────────────────────┼───────────────┤\n",
              "│ decoder (\u001b[38;5;33mDecoder\u001b[0m)               │ ?                      │       \u001b[38;5;34m165,504\u001b[0m │\n",
              "├─────────────────────────────────┼────────────────────────┼───────────────┤\n",
              "│ dense_32 (\u001b[38;5;33mDense\u001b[0m)                │ (\u001b[38;5;45mNone\u001b[0m, \u001b[38;5;45mNone\u001b[0m, \u001b[38;5;34m500\u001b[0m)      │        \u001b[38;5;34m32,500\u001b[0m │\n",
              "└─────────────────────────────────┴────────────────────────┴───────────────┘\n"
            ],
            "text/html": [
              "<pre style=\"white-space:pre;overflow-x:auto;line-height:normal;font-family:Menlo,'DejaVu Sans Mono',consolas,'Courier New',monospace\">┏━━━━━━━━━━━━━━━━━━━━━━━━━━━━━━━━━┳━━━━━━━━━━━━━━━━━━━━━━━━┳━━━━━━━━━━━━━━━┓\n",
              "┃<span style=\"font-weight: bold\"> Layer (type)                    </span>┃<span style=\"font-weight: bold\"> Output Shape           </span>┃<span style=\"font-weight: bold\">       Param # </span>┃\n",
              "┡━━━━━━━━━━━━━━━━━━━━━━━━━━━━━━━━━╇━━━━━━━━━━━━━━━━━━━━━━━━╇━━━━━━━━━━━━━━━┩\n",
              "│ encoder (<span style=\"color: #0087ff; text-decoration-color: #0087ff\">Encoder</span>)               │ ?                      │       <span style=\"color: #00af00; text-decoration-color: #00af00\">131,968</span> │\n",
              "├─────────────────────────────────┼────────────────────────┼───────────────┤\n",
              "│ decoder (<span style=\"color: #0087ff; text-decoration-color: #0087ff\">Decoder</span>)               │ ?                      │       <span style=\"color: #00af00; text-decoration-color: #00af00\">165,504</span> │\n",
              "├─────────────────────────────────┼────────────────────────┼───────────────┤\n",
              "│ dense_32 (<span style=\"color: #0087ff; text-decoration-color: #0087ff\">Dense</span>)                │ (<span style=\"color: #00d7ff; text-decoration-color: #00d7ff\">None</span>, <span style=\"color: #00d7ff; text-decoration-color: #00d7ff\">None</span>, <span style=\"color: #00af00; text-decoration-color: #00af00\">500</span>)      │        <span style=\"color: #00af00; text-decoration-color: #00af00\">32,500</span> │\n",
              "└─────────────────────────────────┴────────────────────────┴───────────────┘\n",
              "</pre>\n"
            ]
          },
          "metadata": {}
        },
        {
          "output_type": "display_data",
          "data": {
            "text/plain": [
              "\u001b[1m Total params: \u001b[0m\u001b[38;5;34m989,918\u001b[0m (3.78 MB)\n"
            ],
            "text/html": [
              "<pre style=\"white-space:pre;overflow-x:auto;line-height:normal;font-family:Menlo,'DejaVu Sans Mono',consolas,'Courier New',monospace\"><span style=\"font-weight: bold\"> Total params: </span><span style=\"color: #00af00; text-decoration-color: #00af00\">989,918</span> (3.78 MB)\n",
              "</pre>\n"
            ]
          },
          "metadata": {}
        },
        {
          "output_type": "display_data",
          "data": {
            "text/plain": [
              "\u001b[1m Trainable params: \u001b[0m\u001b[38;5;34m329,972\u001b[0m (1.26 MB)\n"
            ],
            "text/html": [
              "<pre style=\"white-space:pre;overflow-x:auto;line-height:normal;font-family:Menlo,'DejaVu Sans Mono',consolas,'Courier New',monospace\"><span style=\"font-weight: bold\"> Trainable params: </span><span style=\"color: #00af00; text-decoration-color: #00af00\">329,972</span> (1.26 MB)\n",
              "</pre>\n"
            ]
          },
          "metadata": {}
        },
        {
          "output_type": "display_data",
          "data": {
            "text/plain": [
              "\u001b[1m Non-trainable params: \u001b[0m\u001b[38;5;34m0\u001b[0m (0.00 B)\n"
            ],
            "text/html": [
              "<pre style=\"white-space:pre;overflow-x:auto;line-height:normal;font-family:Menlo,'DejaVu Sans Mono',consolas,'Courier New',monospace\"><span style=\"font-weight: bold\"> Non-trainable params: </span><span style=\"color: #00af00; text-decoration-color: #00af00\">0</span> (0.00 B)\n",
              "</pre>\n"
            ]
          },
          "metadata": {}
        },
        {
          "output_type": "display_data",
          "data": {
            "text/plain": [
              "\u001b[1m Optimizer params: \u001b[0m\u001b[38;5;34m659,946\u001b[0m (2.52 MB)\n"
            ],
            "text/html": [
              "<pre style=\"white-space:pre;overflow-x:auto;line-height:normal;font-family:Menlo,'DejaVu Sans Mono',consolas,'Courier New',monospace\"><span style=\"font-weight: bold\"> Optimizer params: </span><span style=\"color: #00af00; text-decoration-color: #00af00\">659,946</span> (2.52 MB)\n",
              "</pre>\n"
            ]
          },
          "metadata": {}
        }
      ]
    },
    {
      "cell_type": "code",
      "source": [
        "transformer2.summary()"
      ],
      "metadata": {
        "colab": {
          "base_uri": "https://localhost:8080/",
          "height": 241
        },
        "id": "YilWa62uSYZp",
        "outputId": "fbfcf9c4-83f3-4f05-b55a-1617c9df4a84"
      },
      "execution_count": 20,
      "outputs": [
        {
          "output_type": "display_data",
          "data": {
            "text/plain": [
              "\u001b[1mModel: \"transformer_1\"\u001b[0m\n"
            ],
            "text/html": [
              "<pre style=\"white-space:pre;overflow-x:auto;line-height:normal;font-family:Menlo,'DejaVu Sans Mono',consolas,'Courier New',monospace\"><span style=\"font-weight: bold\">Model: \"transformer_1\"</span>\n",
              "</pre>\n"
            ]
          },
          "metadata": {}
        },
        {
          "output_type": "display_data",
          "data": {
            "text/plain": [
              "┏━━━━━━━━━━━━━━━━━━━━━━━━━━━━━━━━━┳━━━━━━━━━━━━━━━━━━━━━━━━┳━━━━━━━━━━━━━━━┓\n",
              "┃\u001b[1m \u001b[0m\u001b[1mLayer (type)                   \u001b[0m\u001b[1m \u001b[0m┃\u001b[1m \u001b[0m\u001b[1mOutput Shape          \u001b[0m\u001b[1m \u001b[0m┃\u001b[1m \u001b[0m\u001b[1m      Param #\u001b[0m\u001b[1m \u001b[0m┃\n",
              "┡━━━━━━━━━━━━━━━━━━━━━━━━━━━━━━━━━╇━━━━━━━━━━━━━━━━━━━━━━━━╇━━━━━━━━━━━━━━━┩\n",
              "│ encoder_1 (\u001b[38;5;33mEncoder\u001b[0m)             │ ?                      │        \u001b[38;5;34m58,048\u001b[0m │\n",
              "├─────────────────────────────────┼────────────────────────┼───────────────┤\n",
              "│ decoder_1 (\u001b[38;5;33mDecoder\u001b[0m)             │ ?                      │        \u001b[38;5;34m66,624\u001b[0m │\n",
              "├─────────────────────────────────┼────────────────────────┼───────────────┤\n",
              "│ dense_65 (\u001b[38;5;33mDense\u001b[0m)                │ (\u001b[38;5;45mNone\u001b[0m, \u001b[38;5;45mNone\u001b[0m, \u001b[38;5;34m500\u001b[0m)      │        \u001b[38;5;34m16,500\u001b[0m │\n",
              "└─────────────────────────────────┴────────────────────────┴───────────────┘\n"
            ],
            "text/html": [
              "<pre style=\"white-space:pre;overflow-x:auto;line-height:normal;font-family:Menlo,'DejaVu Sans Mono',consolas,'Courier New',monospace\">┏━━━━━━━━━━━━━━━━━━━━━━━━━━━━━━━━━┳━━━━━━━━━━━━━━━━━━━━━━━━┳━━━━━━━━━━━━━━━┓\n",
              "┃<span style=\"font-weight: bold\"> Layer (type)                    </span>┃<span style=\"font-weight: bold\"> Output Shape           </span>┃<span style=\"font-weight: bold\">       Param # </span>┃\n",
              "┡━━━━━━━━━━━━━━━━━━━━━━━━━━━━━━━━━╇━━━━━━━━━━━━━━━━━━━━━━━━╇━━━━━━━━━━━━━━━┩\n",
              "│ encoder_1 (<span style=\"color: #0087ff; text-decoration-color: #0087ff\">Encoder</span>)             │ ?                      │        <span style=\"color: #00af00; text-decoration-color: #00af00\">58,048</span> │\n",
              "├─────────────────────────────────┼────────────────────────┼───────────────┤\n",
              "│ decoder_1 (<span style=\"color: #0087ff; text-decoration-color: #0087ff\">Decoder</span>)             │ ?                      │        <span style=\"color: #00af00; text-decoration-color: #00af00\">66,624</span> │\n",
              "├─────────────────────────────────┼────────────────────────┼───────────────┤\n",
              "│ dense_65 (<span style=\"color: #0087ff; text-decoration-color: #0087ff\">Dense</span>)                │ (<span style=\"color: #00d7ff; text-decoration-color: #00d7ff\">None</span>, <span style=\"color: #00d7ff; text-decoration-color: #00d7ff\">None</span>, <span style=\"color: #00af00; text-decoration-color: #00af00\">500</span>)      │        <span style=\"color: #00af00; text-decoration-color: #00af00\">16,500</span> │\n",
              "└─────────────────────────────────┴────────────────────────┴───────────────┘\n",
              "</pre>\n"
            ]
          },
          "metadata": {}
        },
        {
          "output_type": "display_data",
          "data": {
            "text/plain": [
              "\u001b[1m Total params: \u001b[0m\u001b[38;5;34m423,518\u001b[0m (1.62 MB)\n"
            ],
            "text/html": [
              "<pre style=\"white-space:pre;overflow-x:auto;line-height:normal;font-family:Menlo,'DejaVu Sans Mono',consolas,'Courier New',monospace\"><span style=\"font-weight: bold\"> Total params: </span><span style=\"color: #00af00; text-decoration-color: #00af00\">423,518</span> (1.62 MB)\n",
              "</pre>\n"
            ]
          },
          "metadata": {}
        },
        {
          "output_type": "display_data",
          "data": {
            "text/plain": [
              "\u001b[1m Trainable params: \u001b[0m\u001b[38;5;34m141,172\u001b[0m (551.45 KB)\n"
            ],
            "text/html": [
              "<pre style=\"white-space:pre;overflow-x:auto;line-height:normal;font-family:Menlo,'DejaVu Sans Mono',consolas,'Courier New',monospace\"><span style=\"font-weight: bold\"> Trainable params: </span><span style=\"color: #00af00; text-decoration-color: #00af00\">141,172</span> (551.45 KB)\n",
              "</pre>\n"
            ]
          },
          "metadata": {}
        },
        {
          "output_type": "display_data",
          "data": {
            "text/plain": [
              "\u001b[1m Non-trainable params: \u001b[0m\u001b[38;5;34m0\u001b[0m (0.00 B)\n"
            ],
            "text/html": [
              "<pre style=\"white-space:pre;overflow-x:auto;line-height:normal;font-family:Menlo,'DejaVu Sans Mono',consolas,'Courier New',monospace\"><span style=\"font-weight: bold\"> Non-trainable params: </span><span style=\"color: #00af00; text-decoration-color: #00af00\">0</span> (0.00 B)\n",
              "</pre>\n"
            ]
          },
          "metadata": {}
        },
        {
          "output_type": "display_data",
          "data": {
            "text/plain": [
              "\u001b[1m Optimizer params: \u001b[0m\u001b[38;5;34m282,346\u001b[0m (1.08 MB)\n"
            ],
            "text/html": [
              "<pre style=\"white-space:pre;overflow-x:auto;line-height:normal;font-family:Menlo,'DejaVu Sans Mono',consolas,'Courier New',monospace\"><span style=\"font-weight: bold\"> Optimizer params: </span><span style=\"color: #00af00; text-decoration-color: #00af00\">282,346</span> (1.08 MB)\n",
              "</pre>\n"
            ]
          },
          "metadata": {}
        }
      ]
    },
    {
      "cell_type": "code",
      "source": [
        "transformer3.summary()"
      ],
      "metadata": {
        "colab": {
          "base_uri": "https://localhost:8080/",
          "height": 241
        },
        "id": "uyIm9KTXesUn",
        "outputId": "af4a7b9f-5347-45dd-df20-664f2dbc31e9"
      },
      "execution_count": 21,
      "outputs": [
        {
          "output_type": "display_data",
          "data": {
            "text/plain": [
              "\u001b[1mModel: \"transformer_2\"\u001b[0m\n"
            ],
            "text/html": [
              "<pre style=\"white-space:pre;overflow-x:auto;line-height:normal;font-family:Menlo,'DejaVu Sans Mono',consolas,'Courier New',monospace\"><span style=\"font-weight: bold\">Model: \"transformer_2\"</span>\n",
              "</pre>\n"
            ]
          },
          "metadata": {}
        },
        {
          "output_type": "display_data",
          "data": {
            "text/plain": [
              "┏━━━━━━━━━━━━━━━━━━━━━━━━━━━━━━━━━┳━━━━━━━━━━━━━━━━━━━━━━━━┳━━━━━━━━━━━━━━━┓\n",
              "┃\u001b[1m \u001b[0m\u001b[1mLayer (type)                   \u001b[0m\u001b[1m \u001b[0m┃\u001b[1m \u001b[0m\u001b[1mOutput Shape          \u001b[0m\u001b[1m \u001b[0m┃\u001b[1m \u001b[0m\u001b[1m      Param #\u001b[0m\u001b[1m \u001b[0m┃\n",
              "┡━━━━━━━━━━━━━━━━━━━━━━━━━━━━━━━━━╇━━━━━━━━━━━━━━━━━━━━━━━━╇━━━━━━━━━━━━━━━┩\n",
              "│ encoder_2 (\u001b[38;5;33mEncoder\u001b[0m)             │ ?                      │        \u001b[38;5;34m98,944\u001b[0m │\n",
              "├─────────────────────────────────┼────────────────────────┼───────────────┤\n",
              "│ decoder_2 (\u001b[38;5;33mDecoder\u001b[0m)             │ ?                      │       \u001b[38;5;34m132,480\u001b[0m │\n",
              "├─────────────────────────────────┼────────────────────────┼───────────────┤\n",
              "│ dense_98 (\u001b[38;5;33mDense\u001b[0m)                │ (\u001b[38;5;45mNone\u001b[0m, \u001b[38;5;45mNone\u001b[0m, \u001b[38;5;34m500\u001b[0m)      │        \u001b[38;5;34m32,500\u001b[0m │\n",
              "└─────────────────────────────────┴────────────────────────┴───────────────┘\n"
            ],
            "text/html": [
              "<pre style=\"white-space:pre;overflow-x:auto;line-height:normal;font-family:Menlo,'DejaVu Sans Mono',consolas,'Courier New',monospace\">┏━━━━━━━━━━━━━━━━━━━━━━━━━━━━━━━━━┳━━━━━━━━━━━━━━━━━━━━━━━━┳━━━━━━━━━━━━━━━┓\n",
              "┃<span style=\"font-weight: bold\"> Layer (type)                    </span>┃<span style=\"font-weight: bold\"> Output Shape           </span>┃<span style=\"font-weight: bold\">       Param # </span>┃\n",
              "┡━━━━━━━━━━━━━━━━━━━━━━━━━━━━━━━━━╇━━━━━━━━━━━━━━━━━━━━━━━━╇━━━━━━━━━━━━━━━┩\n",
              "│ encoder_2 (<span style=\"color: #0087ff; text-decoration-color: #0087ff\">Encoder</span>)             │ ?                      │        <span style=\"color: #00af00; text-decoration-color: #00af00\">98,944</span> │\n",
              "├─────────────────────────────────┼────────────────────────┼───────────────┤\n",
              "│ decoder_2 (<span style=\"color: #0087ff; text-decoration-color: #0087ff\">Decoder</span>)             │ ?                      │       <span style=\"color: #00af00; text-decoration-color: #00af00\">132,480</span> │\n",
              "├─────────────────────────────────┼────────────────────────┼───────────────┤\n",
              "│ dense_98 (<span style=\"color: #0087ff; text-decoration-color: #0087ff\">Dense</span>)                │ (<span style=\"color: #00d7ff; text-decoration-color: #00d7ff\">None</span>, <span style=\"color: #00d7ff; text-decoration-color: #00d7ff\">None</span>, <span style=\"color: #00af00; text-decoration-color: #00af00\">500</span>)      │        <span style=\"color: #00af00; text-decoration-color: #00af00\">32,500</span> │\n",
              "└─────────────────────────────────┴────────────────────────┴───────────────┘\n",
              "</pre>\n"
            ]
          },
          "metadata": {}
        },
        {
          "output_type": "display_data",
          "data": {
            "text/plain": [
              "\u001b[1m Total params: \u001b[0m\u001b[38;5;34m791,774\u001b[0m (3.02 MB)\n"
            ],
            "text/html": [
              "<pre style=\"white-space:pre;overflow-x:auto;line-height:normal;font-family:Menlo,'DejaVu Sans Mono',consolas,'Courier New',monospace\"><span style=\"font-weight: bold\"> Total params: </span><span style=\"color: #00af00; text-decoration-color: #00af00\">791,774</span> (3.02 MB)\n",
              "</pre>\n"
            ]
          },
          "metadata": {}
        },
        {
          "output_type": "display_data",
          "data": {
            "text/plain": [
              "\u001b[1m Trainable params: \u001b[0m\u001b[38;5;34m263,924\u001b[0m (1.01 MB)\n"
            ],
            "text/html": [
              "<pre style=\"white-space:pre;overflow-x:auto;line-height:normal;font-family:Menlo,'DejaVu Sans Mono',consolas,'Courier New',monospace\"><span style=\"font-weight: bold\"> Trainable params: </span><span style=\"color: #00af00; text-decoration-color: #00af00\">263,924</span> (1.01 MB)\n",
              "</pre>\n"
            ]
          },
          "metadata": {}
        },
        {
          "output_type": "display_data",
          "data": {
            "text/plain": [
              "\u001b[1m Non-trainable params: \u001b[0m\u001b[38;5;34m0\u001b[0m (0.00 B)\n"
            ],
            "text/html": [
              "<pre style=\"white-space:pre;overflow-x:auto;line-height:normal;font-family:Menlo,'DejaVu Sans Mono',consolas,'Courier New',monospace\"><span style=\"font-weight: bold\"> Non-trainable params: </span><span style=\"color: #00af00; text-decoration-color: #00af00\">0</span> (0.00 B)\n",
              "</pre>\n"
            ]
          },
          "metadata": {}
        },
        {
          "output_type": "display_data",
          "data": {
            "text/plain": [
              "\u001b[1m Optimizer params: \u001b[0m\u001b[38;5;34m527,850\u001b[0m (2.01 MB)\n"
            ],
            "text/html": [
              "<pre style=\"white-space:pre;overflow-x:auto;line-height:normal;font-family:Menlo,'DejaVu Sans Mono',consolas,'Courier New',monospace\"><span style=\"font-weight: bold\"> Optimizer params: </span><span style=\"color: #00af00; text-decoration-color: #00af00\">527,850</span> (2.01 MB)\n",
              "</pre>\n"
            ]
          },
          "metadata": {}
        }
      ]
    },
    {
      "cell_type": "code",
      "source": [
        "from nltk.translate.bleu_score import sentence_bleu, SmoothingFunction\n",
        "import numpy as np\n",
        "import tensorflow as tf # Asumsikan Anda menggunakan TensorFlow/Keras\n",
        "\n",
        "# Inisialisasi SmoothingFunction untuk mengatasi kasus n-gram tidak ada\n",
        "chencherry = SmoothingFunction()\n",
        "\n",
        "# Fungsi untuk menghitung BLEU score untuk satu pasangan kalimat\n",
        "def calculate_bleu_for_pair(reference_text, candidate_text):\n",
        "    \"\"\"\n",
        "    Menghitung BLEU score untuk satu pasangan kalimat referensi dan kandidat.\n",
        "    Keduanya harus berupa string.\n",
        "    \"\"\"\n",
        "    # Tokenisasi kalimat menjadi list of words (sesuaikan jika tokenizer Anda berbeda)\n",
        "    reference_tokens = [reference_text.split()] # sentence_bleu mengharapkan list of lists of tokens\n",
        "    candidate_tokens = candidate_text.split()\n",
        "\n",
        "    # Hitung BLEU score, umum menggunakan hingga 4-gram (bobot default)\n",
        "    # Smoothing function 'method1' (atau chencherry.method1) adalah pilihan umum\n",
        "    score = sentence_bleu(reference_tokens, candidate_tokens, smoothing_function=chencherry.method1)\n",
        "    return score\n",
        "\n",
        "# Fungsi untuk mendapatkan prediksi teks dari model\n",
        "# (Mirip dengan fungsi normalize_text Anda, tetapi mungkin disederhanakan untuk evaluasi)\n",
        "def predict_text(input_text, model, src_tokenizer, tgt_tokenizer, max_length):\n",
        "    # Tokenisasi input\n",
        "    processed_src = src_tokenizer([input_text])\n",
        "\n",
        "    # Encode input menggunakan encoder\n",
        "    encoder_output = model.encoder(processed_src, training=False)\n",
        "\n",
        "    # Inisialisasi decoder dengan token [start]\n",
        "    start_token_index = tgt_tokenizer.get_vocabulary().index('[start]')\n",
        "    end_token_index = tgt_tokenizer.get_vocabulary().index('[end]')\n",
        "    decoder_input = tf.expand_dims([start_token_index], 0)\n",
        "\n",
        "    # Generate token step-by-step\n",
        "    for _ in range(max_length):\n",
        "        enc_padding_mask, combined_mask, enc_dec_padding_mask = model.create_masks(\n",
        "            processed_src, decoder_input\n",
        "        )\n",
        "\n",
        "        predictions = model.decoder(\n",
        "            decoder_input, encoder_output, training=False,\n",
        "            look_ahead_mask=combined_mask,\n",
        "            padding_mask=enc_dec_padding_mask\n",
        "        )\n",
        "        predictions = model.final_layer(predictions)\n",
        "        predicted_id = tf.argmax(predictions[:, -1, :], axis=-1)\n",
        "        decoder_input = tf.concat([decoder_input, [predicted_id]], axis=-1)\n",
        "        if predicted_id == end_token_index:\n",
        "            break\n",
        "\n",
        "    # Konversi token IDs ke teks\n",
        "    generated_ids = decoder_input.numpy()[0]\n",
        "    generated_tokens = [tgt_tokenizer.get_vocabulary()[i] for i in generated_ids\n",
        "                        if i not in [start_token_index, end_token_index, 0]] # 0 adalah ID padding default\n",
        "    return ' '.join(generated_tokens)\n",
        "\n",
        "from sklearn.model_selection import train_test_split\n",
        "\n",
        "# Preprocessing dasar seperti yang Anda lakukan sebelumnya\n",
        "df_eval = df.copy() # Gunakan salinan untuk evaluasi\n",
        "df_eval['slang_processed'] = df_eval['slang'].str.lower().str.replace('[^\\\\w\\\\s]', '', regex=True)\n",
        "df_eval['formal_processed'] = df_eval['formal'].str.lower().str.replace('[^\\\\w\\\\s]', '', regex=True)\n",
        "\n",
        "# Pisahkan data evaluasi dengan random_state yang sama seperti saat training\n",
        "_, eval_df = train_test_split(df_eval, test_size=0.2, random_state=42)\n",
        "\n",
        "raw_src_val_list = eval_df['slang_processed'].tolist()\n",
        "cleaned_references = eval_df['formal_processed'].tolist()"
      ],
      "metadata": {
        "id": "yqKtNNjayzTA"
      },
      "execution_count": 22,
      "outputs": []
    },
    {
      "cell_type": "code",
      "source": [
        "# Hitung BLEU untuk setiap pasangan (Eksperimen 1)\n",
        "bleu_scores = []\n",
        "num_samples_to_evaluate = len(raw_src_val_list) # atau batasi jika terlalu banyak, misal 100\n",
        "\n",
        "print(f\"Mengevaluasi BLEU score untuk {num_samples_to_evaluate} sampel...\")\n",
        "\n",
        "for i in range(num_samples_to_evaluate):\n",
        "    input_slang = raw_src_val_list[i]\n",
        "    reference_formal = cleaned_references[i]\n",
        "\n",
        "    # Dapatkan prediksi dari model Anda\n",
        "    # MAX_SEQ_LENGTH + 2 karena tgt_tokenizer memiliki output_sequence_length tersebut\n",
        "    # dan fungsi predict_text menggunakan max_length untuk loop generasinya\n",
        "    predicted_formal = predict_text(input_slang, transformer, src_tokenizer, tgt_tokenizer, MAX_SEQ_LENGTH + 2)\n",
        "\n",
        "    # Hitung BLEU score untuk pasangan ini\n",
        "    pair_bleu_score = calculate_bleu_for_pair(reference_formal, predicted_formal)\n",
        "    bleu_scores.append(pair_bleu_score)\n",
        "\n",
        "    if (i + 1) % 50 == 0: # Cetak progres setiap 50 sampel\n",
        "        print(f\"Selesai {i + 1}/{num_samples_to_evaluate} sampel. BLEU sejauh ini: {np.mean(bleu_scores):.4f}\")\n",
        "\n",
        "\n",
        "# Rata-rata BLEU score di seluruh validation set\n",
        "if bleu_scores:\n",
        "    average_bleu_score = np.mean(bleu_scores)\n",
        "    print(f\"\\nRata-rata BLEU Score pada {num_samples_to_evaluate} sampel validasi: {average_bleu_score:.4f}\")\n",
        "else:\n",
        "    print(\"Tidak ada skor BLEU yang dihitung.\")\n",
        "\n",
        "# Contoh output individu untuk beberapa sampel pertama (opsional, untuk debugging)\n",
        "print(\"\\nContoh hasil individu:\")\n",
        "for i in range(min(5, num_samples_to_evaluate)):\n",
        "    input_slang = raw_src_val_list[i]\n",
        "    reference_formal = cleaned_references[i]\n",
        "    predicted_formal = predict_text(input_slang, transformer, src_tokenizer, tgt_tokenizer, MAX_SEQ_LENGTH + 2)\n",
        "    print(f\"Input Slang    : {input_slang}\")\n",
        "    print(f\"Ref. Formal    : {reference_formal}\")\n",
        "    print(f\"Pred. Formal   : {predicted_formal}\")\n",
        "    print(f\"BLEU           : {bleu_scores[i]:.4f}\\n\")"
      ],
      "metadata": {
        "colab": {
          "base_uri": "https://localhost:8080/"
        },
        "id": "0D40BEU8vRSL",
        "outputId": "a37b67f7-1bc0-48ba-a71e-8e9daecda478"
      },
      "execution_count": 23,
      "outputs": [
        {
          "output_type": "stream",
          "name": "stdout",
          "text": [
            "Mengevaluasi BLEU score untuk 950 sampel...\n",
            "Selesai 50/950 sampel. BLEU sejauh ini: 0.2197\n",
            "Selesai 100/950 sampel. BLEU sejauh ini: 0.1842\n",
            "Selesai 150/950 sampel. BLEU sejauh ini: 0.1861\n",
            "Selesai 200/950 sampel. BLEU sejauh ini: 0.1820\n",
            "Selesai 250/950 sampel. BLEU sejauh ini: 0.1746\n",
            "Selesai 300/950 sampel. BLEU sejauh ini: 0.1703\n",
            "Selesai 350/950 sampel. BLEU sejauh ini: 0.1746\n",
            "Selesai 400/950 sampel. BLEU sejauh ini: 0.1750\n",
            "Selesai 450/950 sampel. BLEU sejauh ini: 0.1761\n",
            "Selesai 500/950 sampel. BLEU sejauh ini: 0.1742\n",
            "Selesai 550/950 sampel. BLEU sejauh ini: 0.1747\n",
            "Selesai 600/950 sampel. BLEU sejauh ini: 0.1734\n",
            "Selesai 650/950 sampel. BLEU sejauh ini: 0.1760\n",
            "Selesai 700/950 sampel. BLEU sejauh ini: 0.1784\n",
            "Selesai 750/950 sampel. BLEU sejauh ini: 0.1809\n",
            "Selesai 800/950 sampel. BLEU sejauh ini: 0.1823\n",
            "Selesai 850/950 sampel. BLEU sejauh ini: 0.1807\n",
            "Selesai 900/950 sampel. BLEU sejauh ini: 0.1787\n",
            "Selesai 950/950 sampel. BLEU sejauh ini: 0.1809\n",
            "\n",
            "Rata-rata BLEU Score pada 950 sampel validasi: 0.1809\n",
            "\n",
            "Contoh hasil individu:\n",
            "Input Slang    : diaaa tuhh tulus bingittzzz\n",
            "Ref. Formal    : dia tuh tulus sekali\n",
            "Pred. Formal   : dia tuh tulus sekali\n",
            "BLEU           : 1.0000\n",
            "\n",
            "Input Slang    : sumpah lawakannya bikin ngakak\n",
            "Ref. Formal    : sungguh lawakannya membuat saya tertawa\n",
            "Pred. Formal   : [UNK] [UNK] [UNK] saya membuat tertawa\n",
            "BLEU           : 0.0537\n",
            "\n",
            "Input Slang    : suka halu jadi pacarnya artis korea terkenal padahal ketemu aja belom pernah sama sekali mimpi kali ye\n",
            "Ref. Formal    : suka berkhayal jadi pacarnya artis korea terkenal padahal bertemu saja belum pernah sama sekali mimpi kali ya\n",
            "Pred. Formal   : suka jadi [UNK] jadi [UNK] [UNK] [UNK] [UNK] [UNK] [UNK] [UNK] [UNK] [UNK] [UNK]\n",
            "BLEU           : 0.0137\n",
            "\n",
            "Input Slang    : jangan putus asa masih ada harapan\n",
            "Ref. Formal    : jangan putus asa masih ada harapan\n",
            "Pred. Formal   : jangan [UNK] [UNK] masih banyak\n",
            "BLEU           : 0.0523\n",
            "\n",
            "Input Slang    : mager banget gue keluar rumah\n",
            "Ref. Formal    : malas sekali aku keluar rumah\n",
            "Pred. Formal   : malas sekali aku keluar rumah\n",
            "BLEU           : 1.0000\n",
            "\n"
          ]
        }
      ]
    },
    {
      "cell_type": "code",
      "source": [
        "# Hitung BLEU untuk setiap pasangan (Eksperimen 2)\n",
        "bleu_scores = []\n",
        "num_samples_to_evaluate = len(raw_src_val_list) # atau batasi jika terlalu banyak, misal 100\n",
        "\n",
        "print(f\"Mengevaluasi BLEU score untuk {num_samples_to_evaluate} sampel...\")\n",
        "\n",
        "for i in range(num_samples_to_evaluate):\n",
        "    input_slang = raw_src_val_list[i]\n",
        "    reference_formal = cleaned_references[i]\n",
        "\n",
        "    # Dapatkan prediksi dari model Anda\n",
        "    # MAX_SEQ_LENGTH + 2 karena tgt_tokenizer memiliki output_sequence_length tersebut\n",
        "    # dan fungsi predict_text menggunakan max_length untuk loop generasinya\n",
        "    predicted_formal = predict_text(input_slang, transformer2, src_tokenizer, tgt_tokenizer, MAX_SEQ_LENGTH + 2)\n",
        "\n",
        "    # Hitung BLEU score untuk pasangan ini\n",
        "    pair_bleu_score = calculate_bleu_for_pair(reference_formal, predicted_formal)\n",
        "    bleu_scores.append(pair_bleu_score)\n",
        "\n",
        "    if (i + 1) % 50 == 0: # Cetak progres setiap 50 sampel\n",
        "        print(f\"Selesai {i + 1}/{num_samples_to_evaluate} sampel. BLEU sejauh ini: {np.mean(bleu_scores):.4f}\")\n",
        "\n",
        "\n",
        "# Rata-rata BLEU score di seluruh validation set\n",
        "if bleu_scores:\n",
        "    average_bleu_score = np.mean(bleu_scores)\n",
        "    print(f\"\\nRata-rata BLEU Score pada {num_samples_to_evaluate} sampel validasi: {average_bleu_score:.4f}\")\n",
        "else:\n",
        "    print(\"Tidak ada skor BLEU yang dihitung.\")\n",
        "\n",
        "# Contoh output individu untuk beberapa sampel pertama (opsional, untuk debugging)\n",
        "print(\"\\nContoh hasil individu:\")\n",
        "for i in range(min(5, num_samples_to_evaluate)):\n",
        "    input_slang = raw_src_val_list[i]\n",
        "    reference_formal = cleaned_references[i]\n",
        "    predicted_formal = predict_text(input_slang, transformer2, src_tokenizer, tgt_tokenizer, MAX_SEQ_LENGTH + 2)\n",
        "    print(f\"Input Slang    : {input_slang}\")\n",
        "    print(f\"Ref. Formal    : {reference_formal}\")\n",
        "    print(f\"Pred. Formal   : {predicted_formal}\")\n",
        "    print(f\"BLEU           : {bleu_scores[i]:.4f}\\n\")"
      ],
      "metadata": {
        "colab": {
          "base_uri": "https://localhost:8080/"
        },
        "id": "Mb_RRhRmyVeF",
        "outputId": "af6465ce-53d4-460d-b544-cbb34556f103"
      },
      "execution_count": 24,
      "outputs": [
        {
          "output_type": "stream",
          "name": "stdout",
          "text": [
            "Mengevaluasi BLEU score untuk 950 sampel...\n",
            "Selesai 50/950 sampel. BLEU sejauh ini: 0.2330\n",
            "Selesai 100/950 sampel. BLEU sejauh ini: 0.2202\n",
            "Selesai 150/950 sampel. BLEU sejauh ini: 0.2103\n",
            "Selesai 200/950 sampel. BLEU sejauh ini: 0.2151\n",
            "Selesai 250/950 sampel. BLEU sejauh ini: 0.2084\n",
            "Selesai 300/950 sampel. BLEU sejauh ini: 0.2032\n",
            "Selesai 350/950 sampel. BLEU sejauh ini: 0.2078\n",
            "Selesai 400/950 sampel. BLEU sejauh ini: 0.2069\n",
            "Selesai 450/950 sampel. BLEU sejauh ini: 0.2065\n",
            "Selesai 500/950 sampel. BLEU sejauh ini: 0.2025\n",
            "Selesai 550/950 sampel. BLEU sejauh ini: 0.1995\n",
            "Selesai 600/950 sampel. BLEU sejauh ini: 0.1981\n",
            "Selesai 650/950 sampel. BLEU sejauh ini: 0.1981\n",
            "Selesai 700/950 sampel. BLEU sejauh ini: 0.2000\n",
            "Selesai 750/950 sampel. BLEU sejauh ini: 0.2027\n",
            "Selesai 800/950 sampel. BLEU sejauh ini: 0.2033\n",
            "Selesai 850/950 sampel. BLEU sejauh ini: 0.2017\n",
            "Selesai 900/950 sampel. BLEU sejauh ini: 0.2004\n",
            "Selesai 950/950 sampel. BLEU sejauh ini: 0.2018\n",
            "\n",
            "Rata-rata BLEU Score pada 950 sampel validasi: 0.2018\n",
            "\n",
            "Contoh hasil individu:\n",
            "Input Slang    : diaaa tuhh tulus bingittzzz\n",
            "Ref. Formal    : dia tuh tulus sekali\n",
            "Pred. Formal   : dia tuh tulus sekali\n",
            "BLEU           : 1.0000\n",
            "\n",
            "Input Slang    : sumpah lawakannya bikin ngakak\n",
            "Ref. Formal    : sungguh lawakannya membuat saya tertawa\n",
            "Pred. Formal   : sungguh [UNK] membuat tertawa terbahakbahak\n",
            "BLEU           : 0.0707\n",
            "\n",
            "Input Slang    : suka halu jadi pacarnya artis korea terkenal padahal ketemu aja belom pernah sama sekali mimpi kali ye\n",
            "Ref. Formal    : suka berkhayal jadi pacarnya artis korea terkenal padahal bertemu saja belum pernah sama sekali mimpi kali ya\n",
            "Pred. Formal   : suka [UNK] jadi [UNK] [UNK] [UNK] [UNK] padahal tidak bertemu saja [UNK] dengan [UNK]\n",
            "BLEU           : 0.0307\n",
            "\n",
            "Input Slang    : jangan putus asa masih ada harapan\n",
            "Ref. Formal    : jangan putus asa masih ada harapan\n",
            "Pred. Formal   : jangan [UNK] [UNK] masih [UNK] jika ada [UNK]\n",
            "BLEU           : 0.0366\n",
            "\n",
            "Input Slang    : mager banget gue keluar rumah\n",
            "Ref. Formal    : malas sekali aku keluar rumah\n",
            "Pred. Formal   : malas sekali aku keluar rumah\n",
            "BLEU           : 1.0000\n",
            "\n"
          ]
        }
      ]
    },
    {
      "cell_type": "code",
      "source": [
        "# Hitung BLEU untuk setiap pasangan (Eksperimen 2)\n",
        "bleu_scores = []\n",
        "num_samples_to_evaluate = len(raw_src_val_list) # atau batasi jika terlalu banyak, misal 100\n",
        "\n",
        "print(f\"Mengevaluasi BLEU score untuk {num_samples_to_evaluate} sampel...\")\n",
        "\n",
        "for i in range(num_samples_to_evaluate):\n",
        "    input_slang = raw_src_val_list[i]\n",
        "    reference_formal = cleaned_references[i]\n",
        "\n",
        "    # Dapatkan prediksi dari model Anda\n",
        "    # MAX_SEQ_LENGTH + 2 karena tgt_tokenizer memiliki output_sequence_length tersebut\n",
        "    # dan fungsi predict_text menggunakan max_length untuk loop generasinya\n",
        "    predicted_formal = predict_text(input_slang, transformer3, src_tokenizer, tgt_tokenizer, MAX_SEQ_LENGTH + 2)\n",
        "\n",
        "    # Hitung BLEU score untuk pasangan ini\n",
        "    pair_bleu_score = calculate_bleu_for_pair(reference_formal, predicted_formal)\n",
        "    bleu_scores.append(pair_bleu_score)\n",
        "\n",
        "    if (i + 1) % 50 == 0: # Cetak progres setiap 50 sampel\n",
        "        print(f\"Selesai {i + 1}/{num_samples_to_evaluate} sampel. BLEU sejauh ini: {np.mean(bleu_scores):.4f}\")\n",
        "\n",
        "\n",
        "# Rata-rata BLEU score di seluruh validation set\n",
        "if bleu_scores:\n",
        "    average_bleu_score = np.mean(bleu_scores)\n",
        "    print(f\"\\nRata-rata BLEU Score pada {num_samples_to_evaluate} sampel validasi: {average_bleu_score:.4f}\")\n",
        "else:\n",
        "    print(\"Tidak ada skor BLEU yang dihitung.\")\n",
        "\n",
        "# Contoh output individu untuk beberapa sampel pertama (opsional, untuk debugging)\n",
        "print(\"\\nContoh hasil individu:\")\n",
        "for i in range(min(5, num_samples_to_evaluate)):\n",
        "    input_slang = raw_src_val_list[i]\n",
        "    reference_formal = cleaned_references[i]\n",
        "    predicted_formal = predict_text(input_slang, transformer3, src_tokenizer, tgt_tokenizer, MAX_SEQ_LENGTH + 2)\n",
        "    print(f\"Input Slang    : {input_slang}\")\n",
        "    print(f\"Ref. Formal    : {reference_formal}\")\n",
        "    print(f\"Pred. Formal   : {predicted_formal}\")\n",
        "    print(f\"BLEU           : {bleu_scores[i]:.4f}\\n\")"
      ],
      "metadata": {
        "colab": {
          "base_uri": "https://localhost:8080/"
        },
        "id": "xndSBV6R2pg6",
        "outputId": "26f826e6-36ee-47d7-d7df-15c8f4475df8"
      },
      "execution_count": 25,
      "outputs": [
        {
          "output_type": "stream",
          "name": "stdout",
          "text": [
            "Mengevaluasi BLEU score untuk 950 sampel...\n",
            "Selesai 50/950 sampel. BLEU sejauh ini: 0.2225\n",
            "Selesai 100/950 sampel. BLEU sejauh ini: 0.2134\n",
            "Selesai 150/950 sampel. BLEU sejauh ini: 0.2098\n",
            "Selesai 200/950 sampel. BLEU sejauh ini: 0.2165\n",
            "Selesai 250/950 sampel. BLEU sejauh ini: 0.2049\n",
            "Selesai 300/950 sampel. BLEU sejauh ini: 0.1989\n",
            "Selesai 350/950 sampel. BLEU sejauh ini: 0.2026\n",
            "Selesai 400/950 sampel. BLEU sejauh ini: 0.2020\n",
            "Selesai 450/950 sampel. BLEU sejauh ini: 0.2009\n",
            "Selesai 500/950 sampel. BLEU sejauh ini: 0.1970\n",
            "Selesai 550/950 sampel. BLEU sejauh ini: 0.1956\n",
            "Selesai 600/950 sampel. BLEU sejauh ini: 0.1934\n",
            "Selesai 650/950 sampel. BLEU sejauh ini: 0.1942\n",
            "Selesai 700/950 sampel. BLEU sejauh ini: 0.1970\n",
            "Selesai 750/950 sampel. BLEU sejauh ini: 0.2012\n",
            "Selesai 800/950 sampel. BLEU sejauh ini: 0.2039\n",
            "Selesai 850/950 sampel. BLEU sejauh ini: 0.2035\n",
            "Selesai 900/950 sampel. BLEU sejauh ini: 0.2017\n",
            "Selesai 950/950 sampel. BLEU sejauh ini: 0.2025\n",
            "\n",
            "Rata-rata BLEU Score pada 950 sampel validasi: 0.2025\n",
            "\n",
            "Contoh hasil individu:\n",
            "Input Slang    : diaaa tuhh tulus bingittzzz\n",
            "Ref. Formal    : dia tuh tulus sekali\n",
            "Pred. Formal   : dia tuh tulus sekali\n",
            "BLEU           : 1.0000\n",
            "\n",
            "Input Slang    : sumpah lawakannya bikin ngakak\n",
            "Ref. Formal    : sungguh lawakannya membuat saya tertawa\n",
            "Pred. Formal   : tidak menyangka [UNK] [UNK]\n",
            "BLEU           : 0.0000\n",
            "\n",
            "Input Slang    : suka halu jadi pacarnya artis korea terkenal padahal ketemu aja belom pernah sama sekali mimpi kali ye\n",
            "Ref. Formal    : suka berkhayal jadi pacarnya artis korea terkenal padahal bertemu saja belum pernah sama sekali mimpi kali ya\n",
            "Pred. Formal   : suka [UNK] [UNK] jadi [UNK] [UNK] [UNK] padahal tidak [UNK] [UNK] itu belum [UNK]\n",
            "BLEU           : 0.0163\n",
            "\n",
            "Input Slang    : jangan putus asa masih ada harapan\n",
            "Ref. Formal    : jangan putus asa masih ada harapan\n",
            "Pred. Formal   : jangan [UNK] jika masih ada [UNK]\n",
            "BLEU           : 0.0955\n",
            "\n",
            "Input Slang    : mager banget gue keluar rumah\n",
            "Ref. Formal    : malas sekali aku keluar rumah\n",
            "Pred. Formal   : malas sekali aku keluar rumah\n",
            "BLEU           : 1.0000\n",
            "\n"
          ]
        }
      ]
    }
  ]
}